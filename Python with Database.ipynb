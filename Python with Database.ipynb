{
 "cells": [
  {
   "cell_type": "markdown",
   "id": "35c2bf11-43f5-4a4b-9f92-77193f21bede",
   "metadata": {},
   "source": [
    "### Dealing with Database"
   ]
  },
  {
   "cell_type": "code",
   "execution_count": 1,
   "id": "6155dd41-879a-4206-ae57-de40ee229464",
   "metadata": {},
   "outputs": [],
   "source": [
    "# creation of a database\n",
    "import sqlite3      # importing the required module"
   ]
  },
  {
   "cell_type": "code",
   "execution_count": 3,
   "id": "e6fdbbf2-d538-4998-9e57-9af50d2390ae",
   "metadata": {},
   "outputs": [
    {
     "name": "stdout",
     "output_type": "stream",
     "text": [
      "Database has been used or created successfully...\n",
      "Successfully connected with the database...\n"
     ]
    }
   ],
   "source": [
    "# use the database if it is pre-existing or create a new one\n",
    "connection = sqlite3.connect(\"myemp.db\")\n",
    "print (\"Database has been used or created successfully...\")\n",
    "print (\"Successfully connected with the database...\")"
   ]
  },
  {
   "cell_type": "code",
   "execution_count": 4,
   "id": "094525b7-b47d-4a2a-9f88-bfbbd2c88a29",
   "metadata": {},
   "outputs": [
    {
     "name": "stdout",
     "output_type": "stream",
     "text": [
      "The employee table has been created successfully...\n"
     ]
    }
   ],
   "source": [
    "# SQLite Manager Online URL: https://extendsclass.com/sqlite-browser.html\n",
    "# create employee table as employee(emp_id, emp_name, emp_city, emp_salary)\n",
    "sqlStr = '''\n",
    "         CREATE TABLE employee (\n",
    "             emp_id INTEGER PRIMARY KEY,\n",
    "             emp_name TEXT,\n",
    "             emp_city TEXT,\n",
    "             emp_salary REAL);\n",
    "         '''\n",
    "try:\n",
    "    connection.execute(sqlStr)\n",
    "    print (\"The employee table has been created successfully...\")\n",
    "except:\n",
    "    print (\"Error !!! Table could not be created...\")"
   ]
  },
  {
   "cell_type": "code",
   "execution_count": 10,
   "id": "b4b6ced0-13e6-4d37-ac33-fb9e5217fbd2",
   "metadata": {},
   "outputs": [
    {
     "name": "stdout",
     "output_type": "stream",
     "text": [
      "[(0, 'emp_id', 'INTEGER', 0, None, 1), (1, 'emp_name', 'TEXT', 0, None, 0), (2, 'emp_city', 'TEXT', 0, None, 0), (3, 'emp_salary', 'REAL', 0, None, 0)]\n",
      "(0, 'emp_id', 'INTEGER', 0, None, 1)\n",
      "(1, 'emp_name', 'TEXT', 0, None, 0)\n",
      "(2, 'emp_city', 'TEXT', 0, None, 0)\n",
      "(3, 'emp_salary', 'REAL', 0, None, 0)\n"
     ]
    }
   ],
   "source": [
    "# to check the table structure at the SQLite manager site use the statement: pragma table_info(\"employee\")\n",
    "print (list(connection.execute('pragma table_info(\"employee\")')))\n",
    "\n",
    "for each_row in list(connection.execute('pragma table_info(\"employee\")')):\n",
    "    print (each_row)"
   ]
  },
  {
   "cell_type": "code",
   "execution_count": 29,
   "id": "e9145535-8977-44ff-8dd7-788f4866821e",
   "metadata": {},
   "outputs": [
    {
     "name": "stdout",
     "output_type": "stream",
     "text": [
      "[['1001', 'Dhiman', 'Kolkata', '39000'], ['1002', 'Anupam', 'Kolkata', '25000'], ['1003', 'Subham', 'Mumbai', '36000'], ['1004', 'Dinesh', 'Chennai', '28000'], ['1005', 'Kakali', 'Mumbai', '25000'], ['1006', 'Bimal', 'Hyderabad', '30000'], ['1007', 'Tarun', 'Chennai', '17000'], ['1008', 'Rittik', 'Durgapur', '45000'], ['1009', 'Barun', 'Hyderabad', '39000'], ['1010', 'Utpal', 'Lucknow', '20000']]\n",
      "End of the csv file content...\n"
     ]
    }
   ],
   "source": [
    "# reading records from the csv file and writing (inserting) it to the employee table\n",
    "import csv   # importing required module\n",
    "sqlStr = \"INSERT INTO employee ('{ph_emp_id}', '{ph_emp_name}', '{ph_emp_city}', '{ph_emp_salary}');\"\n",
    "# read lines from the csv file and store them into the table\n",
    "with open('emp_data.csv') as data_file:\n",
    "    csv_reader = csv.reader(data_file)\n",
    "    # print (csv_reader)\n",
    "    print (list(csv_reader))\n",
    "    # print (len(list(csv_reader)))\n",
    "    # print (tuple(csv_reader))\n",
    "# csv_reader = csv.reader(data_file)  \n",
    "print (\"End of the csv file content...\")"
   ]
  },
  {
   "cell_type": "code",
   "execution_count": 28,
   "id": "f4e92897-0a92-4a03-b7c4-03528aeb9a8b",
   "metadata": {},
   "outputs": [
    {
     "name": "stdout",
     "output_type": "stream",
     "text": [
      "['1001', 'Dhiman', 'Kolkata', '39000']\n",
      "['1002', 'Anupam', 'Kolkata', '25000']\n",
      "['1003', 'Subham', 'Mumbai', '36000']\n",
      "['1004', 'Dinesh', 'Chennai', '28000']\n",
      "['1005', 'Kakali', 'Mumbai', '25000']\n",
      "['1006', 'Bimal', 'Hyderabad', '30000']\n",
      "['1007', 'Tarun', 'Chennai', '17000']\n",
      "['1008', 'Rittik', 'Durgapur', '45000']\n",
      "['1009', 'Barun', 'Hyderabad', '39000']\n",
      "['1010', 'Utpal', 'Lucknow', '20000']\n",
      "All data from the data file have been insereted to the database table successfully...\n"
     ]
    }
   ],
   "source": [
    "# reading records from the csv file and writing (inserting) it to the employee table\n",
    "import csv   # importing required module\n",
    "sqlStr = \"INSERT INTO employee VALUES ('{ph_emp_id}', '{ph_emp_name}', '{ph_emp_city}', '{ph_emp_salary}');\"\n",
    "# read lines from the csv file and store them into the table\n",
    "with open('emp_data.csv') as data_file:\n",
    "    csv_reader = csv.reader(data_file)\n",
    "    # reader is to read from the data file with ',' as the delimiter\n",
    "    for row in csv_reader:\n",
    "        print (row)\n",
    "        connection.execute(sqlStr.format(ph_emp_id=row[0], ph_emp_name=row[1], ph_emp_city=row[2], ph_emp_salary=row[3]))\n",
    "connection.commit()    # to make the change permanent\n",
    "print (\"All data from the data file have been insereted to the database table successfully...\")"
   ]
  },
  {
   "cell_type": "code",
   "execution_count": 33,
   "id": "75c57c37-908c-432c-ad51-70a71f85ad78",
   "metadata": {},
   "outputs": [
    {
     "name": "stdout",
     "output_type": "stream",
     "text": [
      "Emp-ID: 1001, Emp-Name: Dhiman, Emp-City: Kolkata, Emp-Salary: 39000.0...\n",
      "Emp-ID: 1002, Emp-Name: Anupam, Emp-City: Kolkata, Emp-Salary: 25000.0...\n",
      "Emp-ID: 1003, Emp-Name: Subham, Emp-City: Mumbai, Emp-Salary: 36000.0...\n",
      "Emp-ID: 1004, Emp-Name: Dinesh, Emp-City: Chennai, Emp-Salary: 28000.0...\n",
      "Emp-ID: 1005, Emp-Name: Kakali, Emp-City: Mumbai, Emp-Salary: 25000.0...\n",
      "Emp-ID: 1006, Emp-Name: Bimal, Emp-City: Hyderabad, Emp-Salary: 30000.0...\n",
      "Emp-ID: 1007, Emp-Name: Tarun, Emp-City: Chennai, Emp-Salary: 17000.0...\n",
      "Emp-ID: 1008, Emp-Name: Rittik, Emp-City: Durgapur, Emp-Salary: 45000.0...\n",
      "Emp-ID: 1009, Emp-Name: Barun, Emp-City: Hyderabad, Emp-Salary: 39000.0...\n",
      "Emp-ID: 1010, Emp-Name: Utpal, Emp-City: Lucknow, Emp-Salary: 20000.0...\n"
     ]
    }
   ],
   "source": [
    "# retrieving records from the database table\n",
    "# SQL for fetching all records from the database table\n",
    "sqlStr = \"SELECT * FROM employee;\"\n",
    "# read from the databsse table and point the cursor into the variable cur_table\n",
    "cur_table = connection.execute(sqlStr)\n",
    "# print (list(cur_table))\n",
    "# print (len(list(cur_table)))\n",
    "for each_row in cur_table:\n",
    "    print (f\"Emp-ID: {each_row[0]}, Emp-Name: {each_row[1]}, Emp-City: {each_row[2]}, Emp-Salary: {each_row[3]}...\")"
   ]
  },
  {
   "cell_type": "markdown",
   "id": "f19c7da4-c51a-45cf-b2df-f23bfa492f1c",
   "metadata": {},
   "source": [
    "#### Class Assignments:"
   ]
  },
  {
   "cell_type": "code",
   "execution_count": 54,
   "id": "ddbe2fcc-95eb-44a4-8b50-cc295104c98d",
   "metadata": {},
   "outputs": [
    {
     "name": "stdout",
     "output_type": "stream",
     "text": [
      "Emp-Name: Subham, Emp-Salary: 36000.0, Emp-TDS: 2700.0...\n",
      "Emp-Name: Dinesh, Emp-Salary: 30000.0, Emp-TDS: 2250.0...\n",
      "Emp-Name: Kakali, Emp-Salary: 25000.0, Emp-TDS: 1875.0...\n",
      "Emp-Name: Bimal, Emp-Salary: 30000.0, Emp-TDS: 2250.0...\n",
      "Emp-Name: Tarun, Emp-Salary: 30000.0, Emp-TDS: 2250.0...\n",
      "Emp-Name: Rittik, Emp-Salary: 45000.0, Emp-TDS: 3375.0...\n",
      "Emp-Name: Barun, Emp-Salary: 39000.0, Emp-TDS: 2925.0...\n",
      "Emp-Name: Utpal, Emp-Salary: 20000.0, Emp-TDS: 1500.0...\n",
      "Emp-Name: Tapas, Emp-Salary: 75000.0, Emp-TDS: 5625.0...\n",
      "Emp-Name: Madhumita, Emp-Salary: 77000.0, Emp-TDS: 5775.0...\n"
     ]
    }
   ],
   "source": [
    "# Class Assignment Query-1:\n",
    "# Fetch and display employee name, salary and 7.5% TDS against salaries of all the employees.\n",
    "sqlStr = \"SELECT emp_name, emp_salary, emp_salary * 0.075 FROM employee\"\n",
    "cur_table = connection.execute(sqlStr)\n",
    "for each_row in cur_table:\n",
    "    print (f\"Emp-Name: {each_row[0]}, Emp-Salary: {each_row[1]}, Emp-TDS: {each_row[2]}...\")"
   ]
  },
  {
   "cell_type": "code",
   "execution_count": 55,
   "id": "8c7f0188-f446-412e-ba5f-ac41af413f6b",
   "metadata": {},
   "outputs": [
    {
     "name": "stdout",
     "output_type": "stream",
     "text": [
      "Emp-City: Chennai and Emp-Avg-Salary: 30000.0...\n",
      "Emp-City: Durgapur and Emp-Avg-Salary: 45000.0...\n",
      "Emp-City: Gwalior and Emp-Avg-Salary: 77000.0...\n",
      "Emp-City: Hyderabad and Emp-Avg-Salary: 34500.0...\n",
      "Emp-City: Lucknow and Emp-Avg-Salary: 20000.0...\n",
      "Emp-City: Mumbai and Emp-Avg-Salary: 30500.0...\n",
      "Emp-City: Vododara and Emp-Avg-Salary: 75000.0...\n"
     ]
    }
   ],
   "source": [
    "# Class Assignment Query-2:\n",
    "# Fetch and display city wise average salaries of all the employees.\n",
    "sqlStr = \"SELECT emp_city, avg(emp_salary) FROM employee GROUP BY emp_city;\"\n",
    "cur_table = connection.execute(sqlStr)\n",
    "for each_row in cur_table:\n",
    "    print (f\"Emp-City: {each_row[0]} and Emp-Avg-Salary: {each_row[1]}...\")"
   ]
  },
  {
   "cell_type": "markdown",
   "id": "88cff8dc-9ddf-4fca-8a7e-25fa17f77fda",
   "metadata": {},
   "source": [
    "#### Other operations on the database"
   ]
  },
  {
   "cell_type": "code",
   "execution_count": 34,
   "id": "74801454-80a5-41a6-b8b0-60cdf3218bac",
   "metadata": {},
   "outputs": [
    {
     "name": "stdout",
     "output_type": "stream",
     "text": [
      "<class 'sqlite3.Cursor'>\n",
      "So the number of records got deleted is 2\n",
      "So the deletion operation has been completed successfully...\n"
     ]
    }
   ],
   "source": [
    "# deleting records from the table\n",
    "# delete those records where city = 'Kolkata'\n",
    "sqlStr = \"DELETE FROM employee WHERE emp_city = 'Kolkata';\"\n",
    "table = connection.execute(sqlStr)\n",
    "print (type(table))\n",
    "print (\"So the number of records got deleted is\", table.rowcount)\n",
    "print (\"So the deletion operation has been completed successfully...\")"
   ]
  },
  {
   "cell_type": "code",
   "execution_count": 35,
   "id": "e5f3312c-d987-4350-a72c-eef99a5c29ee",
   "metadata": {},
   "outputs": [],
   "source": [
    "connection.commit()  # to make the change permanent"
   ]
  },
  {
   "cell_type": "code",
   "execution_count": 36,
   "id": "5855df4f-736b-40da-a209-993d6da89e1b",
   "metadata": {},
   "outputs": [
    {
     "name": "stdout",
     "output_type": "stream",
     "text": [
      "Emp-ID: 1003, Emp-Name: Subham, Emp-City: Mumbai, Emp-Salary: 36000.0...\n",
      "Emp-ID: 1004, Emp-Name: Dinesh, Emp-City: Chennai, Emp-Salary: 28000.0...\n",
      "Emp-ID: 1005, Emp-Name: Kakali, Emp-City: Mumbai, Emp-Salary: 25000.0...\n",
      "Emp-ID: 1006, Emp-Name: Bimal, Emp-City: Hyderabad, Emp-Salary: 30000.0...\n",
      "Emp-ID: 1007, Emp-Name: Tarun, Emp-City: Chennai, Emp-Salary: 17000.0...\n",
      "Emp-ID: 1008, Emp-Name: Rittik, Emp-City: Durgapur, Emp-Salary: 45000.0...\n",
      "Emp-ID: 1009, Emp-Name: Barun, Emp-City: Hyderabad, Emp-Salary: 39000.0...\n",
      "Emp-ID: 1010, Emp-Name: Utpal, Emp-City: Lucknow, Emp-Salary: 20000.0...\n"
     ]
    }
   ],
   "source": [
    "# retrieving all the records from the database table\n",
    "# SQL for fetching all records from the database table\n",
    "sqlStr = \"SELECT * FROM employee;\"\n",
    "# read from the databsse table and point the cursor into the variable cur_table\n",
    "cur_table = connection.execute(sqlStr)\n",
    "# print (list(cur_table))\n",
    "# print (len(list(cur_table)))\n",
    "for each_row in cur_table:\n",
    "    print (f\"Emp-ID: {each_row[0]}, Emp-Name: {each_row[1]}, Emp-City: {each_row[2]}, Emp-Salary: {each_row[3]}...\")"
   ]
  },
  {
   "cell_type": "code",
   "execution_count": 37,
   "id": "3fa72dac-5ef5-49e4-8986-5c2cef74d1d1",
   "metadata": {},
   "outputs": [
    {
     "name": "stdout",
     "output_type": "stream",
     "text": [
      "<class 'sqlite3.Cursor'>\n",
      "So the number of records got updated is 2\n",
      "So the updation operation has been completed successfully...\n"
     ]
    }
   ],
   "source": [
    "# update operation on the existing records of the table\n",
    "# update salary to 30000 where city is 'Chennai'\n",
    "sqlStr = \"UPDATE employee SET emp_salary = 30000 WHERE emp_city = 'Chennai';\"\n",
    "table = connection.execute(sqlStr)\n",
    "print (type(table))\n",
    "connection.commit()   # to make the change permanent\n",
    "print (\"So the number of records got updated is\", table.rowcount)\n",
    "print (\"So the updation operation has been completed successfully...\")"
   ]
  },
  {
   "cell_type": "code",
   "execution_count": 38,
   "id": "8bd73d32-502e-4ae3-b39d-2f9961f461c5",
   "metadata": {},
   "outputs": [
    {
     "name": "stdout",
     "output_type": "stream",
     "text": [
      "Emp-ID: 1003, Emp-Name: Subham, Emp-City: Mumbai, Emp-Salary: 36000.0...\n",
      "Emp-ID: 1004, Emp-Name: Dinesh, Emp-City: Chennai, Emp-Salary: 30000.0...\n",
      "Emp-ID: 1005, Emp-Name: Kakali, Emp-City: Mumbai, Emp-Salary: 25000.0...\n",
      "Emp-ID: 1006, Emp-Name: Bimal, Emp-City: Hyderabad, Emp-Salary: 30000.0...\n",
      "Emp-ID: 1007, Emp-Name: Tarun, Emp-City: Chennai, Emp-Salary: 30000.0...\n",
      "Emp-ID: 1008, Emp-Name: Rittik, Emp-City: Durgapur, Emp-Salary: 45000.0...\n",
      "Emp-ID: 1009, Emp-Name: Barun, Emp-City: Hyderabad, Emp-Salary: 39000.0...\n",
      "Emp-ID: 1010, Emp-Name: Utpal, Emp-City: Lucknow, Emp-Salary: 20000.0...\n"
     ]
    }
   ],
   "source": [
    "# retrieving all the records from the database table\n",
    "# SQL for fetching all records from the database table\n",
    "sqlStr = \"SELECT * FROM employee;\"\n",
    "# read from the databsse table and point the cursor into the variable cur_table\n",
    "cur_table = connection.execute(sqlStr)\n",
    "# print (list(cur_table))\n",
    "# print (len(list(cur_table)))\n",
    "for each_row in cur_table:\n",
    "    print (f\"Emp-ID: {each_row[0]}, Emp-Name: {each_row[1]}, Emp-City: {each_row[2]}, Emp-Salary: {each_row[3]}...\")"
   ]
  },
  {
   "cell_type": "code",
   "execution_count": 39,
   "id": "9ed9f3e9-1595-4f84-82c5-7a2dfb0cc23e",
   "metadata": {},
   "outputs": [
    {
     "name": "stdin",
     "output_type": "stream",
     "text": [
      "Please enter the number of records you want to insert now:  2\n",
      "Enter employee ID:  1011\n",
      "Enter employee Name:  Tapas\n",
      "Enter employee City:  Vododara\n",
      "Enter employee Salary:  75000\n",
      "Enter employee ID:  1012\n",
      "Enter employee Name:  Madhumita\n",
      "Enter employee City:  Gwalior\n",
      "Enter employee Salary:  77000\n"
     ]
    },
    {
     "name": "stdout",
     "output_type": "stream",
     "text": [
      "All the records got inserted successfully...\n"
     ]
    }
   ],
   "source": [
    "n = int(input(\"Please enter the number of records you want to insert now: \"))\n",
    "cursor = connection.cursor()\n",
    "for i in range(n):\n",
    "    ip_emp_id = int(input(\"Enter employee ID: \"))\n",
    "    ip_emp_name = input(\"Enter employee Name: \")\n",
    "    ip_emp_city = input(\"Enter employee City: \")\n",
    "    ip_emp_salary = int(input(\"Enter employee Salary: \"))\n",
    "    cursor.execute(\"INSERT INTO employee VALUES (?, ?, ?, ?)\", (ip_emp_id, ip_emp_name, ip_emp_city, ip_emp_salary))\n",
    "connection.commit()    # making the change permanent\n",
    "print (\"All the records got inserted successfully...\")"
   ]
  },
  {
   "cell_type": "code",
   "execution_count": 42,
   "id": "033f78be-f0b7-43ea-9e9f-794321b8ac57",
   "metadata": {},
   "outputs": [
    {
     "name": "stdout",
     "output_type": "stream",
     "text": [
      "Displaying the current content of the employee database table...\n",
      "Emp-ID: 1003, Emp-Name: Subham, Emp-City: Mumbai, Emp-Salary: 36000.0...\n",
      "Emp-ID: 1004, Emp-Name: Dinesh, Emp-City: Chennai, Emp-Salary: 30000.0...\n",
      "Emp-ID: 1005, Emp-Name: Kakali, Emp-City: Mumbai, Emp-Salary: 25000.0...\n",
      "Emp-ID: 1006, Emp-Name: Bimal, Emp-City: Hyderabad, Emp-Salary: 30000.0...\n",
      "Emp-ID: 1007, Emp-Name: Tarun, Emp-City: Chennai, Emp-Salary: 30000.0...\n",
      "Emp-ID: 1008, Emp-Name: Rittik, Emp-City: Durgapur, Emp-Salary: 45000.0...\n",
      "Emp-ID: 1009, Emp-Name: Barun, Emp-City: Hyderabad, Emp-Salary: 39000.0...\n",
      "Emp-ID: 1010, Emp-Name: Utpal, Emp-City: Lucknow, Emp-Salary: 20000.0...\n",
      "Emp-ID: 1011, Emp-Name: Tapas, Emp-City: Vododara, Emp-Salary: 75000.0...\n",
      "Emp-ID: 1012, Emp-Name: Madhumita, Emp-City: Gwalior, Emp-Salary: 77000.0...\n"
     ]
    }
   ],
   "source": [
    "# retrieving all the records from the database table\n",
    "print (\"Displaying the current content of the employee database table...\")\n",
    "cursor.execute(\"SELECT emp_id, emp_name, emp_city, emp_salary FROM employee;\")\n",
    "for each_row in cursor:\n",
    "    print (f\"Emp-ID: {each_row[0]}, Emp-Name: {each_row[1]}, Emp-City: {each_row[2]}, Emp-Salary: {each_row[3]}...\")"
   ]
  },
  {
   "cell_type": "code",
   "execution_count": 43,
   "id": "8004576d-6ad3-4109-baf3-d976da71b078",
   "metadata": {},
   "outputs": [],
   "source": [
    "import pandas as pd    # importing required modules"
   ]
  },
  {
   "cell_type": "code",
   "execution_count": 44,
   "id": "45919e37-4671-44a5-b35c-9fc215a1f24c",
   "metadata": {},
   "outputs": [
    {
     "data": {
      "text/html": [
       "<div>\n",
       "<style scoped>\n",
       "    .dataframe tbody tr th:only-of-type {\n",
       "        vertical-align: middle;\n",
       "    }\n",
       "\n",
       "    .dataframe tbody tr th {\n",
       "        vertical-align: top;\n",
       "    }\n",
       "\n",
       "    .dataframe thead th {\n",
       "        text-align: right;\n",
       "    }\n",
       "</style>\n",
       "<table border=\"1\" class=\"dataframe\">\n",
       "  <thead>\n",
       "    <tr style=\"text-align: right;\">\n",
       "      <th></th>\n",
       "      <th>emp_id</th>\n",
       "      <th>emp_name</th>\n",
       "      <th>emp_city</th>\n",
       "      <th>emp_salary</th>\n",
       "    </tr>\n",
       "  </thead>\n",
       "  <tbody>\n",
       "    <tr>\n",
       "      <th>0</th>\n",
       "      <td>1003</td>\n",
       "      <td>Subham</td>\n",
       "      <td>Mumbai</td>\n",
       "      <td>36000.0</td>\n",
       "    </tr>\n",
       "    <tr>\n",
       "      <th>1</th>\n",
       "      <td>1004</td>\n",
       "      <td>Dinesh</td>\n",
       "      <td>Chennai</td>\n",
       "      <td>30000.0</td>\n",
       "    </tr>\n",
       "    <tr>\n",
       "      <th>2</th>\n",
       "      <td>1005</td>\n",
       "      <td>Kakali</td>\n",
       "      <td>Mumbai</td>\n",
       "      <td>25000.0</td>\n",
       "    </tr>\n",
       "    <tr>\n",
       "      <th>3</th>\n",
       "      <td>1006</td>\n",
       "      <td>Bimal</td>\n",
       "      <td>Hyderabad</td>\n",
       "      <td>30000.0</td>\n",
       "    </tr>\n",
       "    <tr>\n",
       "      <th>4</th>\n",
       "      <td>1007</td>\n",
       "      <td>Tarun</td>\n",
       "      <td>Chennai</td>\n",
       "      <td>30000.0</td>\n",
       "    </tr>\n",
       "    <tr>\n",
       "      <th>5</th>\n",
       "      <td>1008</td>\n",
       "      <td>Rittik</td>\n",
       "      <td>Durgapur</td>\n",
       "      <td>45000.0</td>\n",
       "    </tr>\n",
       "    <tr>\n",
       "      <th>6</th>\n",
       "      <td>1009</td>\n",
       "      <td>Barun</td>\n",
       "      <td>Hyderabad</td>\n",
       "      <td>39000.0</td>\n",
       "    </tr>\n",
       "    <tr>\n",
       "      <th>7</th>\n",
       "      <td>1010</td>\n",
       "      <td>Utpal</td>\n",
       "      <td>Lucknow</td>\n",
       "      <td>20000.0</td>\n",
       "    </tr>\n",
       "    <tr>\n",
       "      <th>8</th>\n",
       "      <td>1011</td>\n",
       "      <td>Tapas</td>\n",
       "      <td>Vododara</td>\n",
       "      <td>75000.0</td>\n",
       "    </tr>\n",
       "    <tr>\n",
       "      <th>9</th>\n",
       "      <td>1012</td>\n",
       "      <td>Madhumita</td>\n",
       "      <td>Gwalior</td>\n",
       "      <td>77000.0</td>\n",
       "    </tr>\n",
       "  </tbody>\n",
       "</table>\n",
       "</div>"
      ],
      "text/plain": [
       "   emp_id   emp_name   emp_city  emp_salary\n",
       "0    1003     Subham     Mumbai     36000.0\n",
       "1    1004     Dinesh    Chennai     30000.0\n",
       "2    1005     Kakali     Mumbai     25000.0\n",
       "3    1006      Bimal  Hyderabad     30000.0\n",
       "4    1007      Tarun    Chennai     30000.0\n",
       "5    1008     Rittik   Durgapur     45000.0\n",
       "6    1009      Barun  Hyderabad     39000.0\n",
       "7    1010      Utpal    Lucknow     20000.0\n",
       "8    1011      Tapas   Vododara     75000.0\n",
       "9    1012  Madhumita    Gwalior     77000.0"
      ]
     },
     "execution_count": 44,
     "metadata": {},
     "output_type": "execute_result"
    }
   ],
   "source": [
    "# uploading data from the databse table to Pandas Data Frame\n",
    "df = pd.read_sql_query(\"SELECT * FROM employee;\", connection)\n",
    "df"
   ]
  },
  {
   "cell_type": "code",
   "execution_count": 46,
   "id": "5b836495-29d7-494d-bdae-718ccc5be72a",
   "metadata": {},
   "outputs": [
    {
     "data": {
      "text/html": [
       "<div>\n",
       "<style scoped>\n",
       "    .dataframe tbody tr th:only-of-type {\n",
       "        vertical-align: middle;\n",
       "    }\n",
       "\n",
       "    .dataframe tbody tr th {\n",
       "        vertical-align: top;\n",
       "    }\n",
       "\n",
       "    .dataframe thead th {\n",
       "        text-align: right;\n",
       "    }\n",
       "</style>\n",
       "<table border=\"1\" class=\"dataframe\">\n",
       "  <thead>\n",
       "    <tr style=\"text-align: right;\">\n",
       "      <th></th>\n",
       "      <th>EMP-ID</th>\n",
       "      <th>EMP-Name</th>\n",
       "      <th>EMP-City</th>\n",
       "      <th>EMP-Salary</th>\n",
       "    </tr>\n",
       "  </thead>\n",
       "  <tbody>\n",
       "    <tr>\n",
       "      <th>0</th>\n",
       "      <td>1003</td>\n",
       "      <td>Subham</td>\n",
       "      <td>Mumbai</td>\n",
       "      <td>36000.0</td>\n",
       "    </tr>\n",
       "    <tr>\n",
       "      <th>1</th>\n",
       "      <td>1004</td>\n",
       "      <td>Dinesh</td>\n",
       "      <td>Chennai</td>\n",
       "      <td>30000.0</td>\n",
       "    </tr>\n",
       "    <tr>\n",
       "      <th>2</th>\n",
       "      <td>1005</td>\n",
       "      <td>Kakali</td>\n",
       "      <td>Mumbai</td>\n",
       "      <td>25000.0</td>\n",
       "    </tr>\n",
       "    <tr>\n",
       "      <th>3</th>\n",
       "      <td>1006</td>\n",
       "      <td>Bimal</td>\n",
       "      <td>Hyderabad</td>\n",
       "      <td>30000.0</td>\n",
       "    </tr>\n",
       "    <tr>\n",
       "      <th>4</th>\n",
       "      <td>1007</td>\n",
       "      <td>Tarun</td>\n",
       "      <td>Chennai</td>\n",
       "      <td>30000.0</td>\n",
       "    </tr>\n",
       "    <tr>\n",
       "      <th>5</th>\n",
       "      <td>1008</td>\n",
       "      <td>Rittik</td>\n",
       "      <td>Durgapur</td>\n",
       "      <td>45000.0</td>\n",
       "    </tr>\n",
       "    <tr>\n",
       "      <th>6</th>\n",
       "      <td>1009</td>\n",
       "      <td>Barun</td>\n",
       "      <td>Hyderabad</td>\n",
       "      <td>39000.0</td>\n",
       "    </tr>\n",
       "    <tr>\n",
       "      <th>7</th>\n",
       "      <td>1010</td>\n",
       "      <td>Utpal</td>\n",
       "      <td>Lucknow</td>\n",
       "      <td>20000.0</td>\n",
       "    </tr>\n",
       "    <tr>\n",
       "      <th>8</th>\n",
       "      <td>1011</td>\n",
       "      <td>Tapas</td>\n",
       "      <td>Vododara</td>\n",
       "      <td>75000.0</td>\n",
       "    </tr>\n",
       "    <tr>\n",
       "      <th>9</th>\n",
       "      <td>1012</td>\n",
       "      <td>Madhumita</td>\n",
       "      <td>Gwalior</td>\n",
       "      <td>77000.0</td>\n",
       "    </tr>\n",
       "  </tbody>\n",
       "</table>\n",
       "</div>"
      ],
      "text/plain": [
       "   EMP-ID   EMP-Name   EMP-City  EMP-Salary\n",
       "0    1003     Subham     Mumbai     36000.0\n",
       "1    1004     Dinesh    Chennai     30000.0\n",
       "2    1005     Kakali     Mumbai     25000.0\n",
       "3    1006      Bimal  Hyderabad     30000.0\n",
       "4    1007      Tarun    Chennai     30000.0\n",
       "5    1008     Rittik   Durgapur     45000.0\n",
       "6    1009      Barun  Hyderabad     39000.0\n",
       "7    1010      Utpal    Lucknow     20000.0\n",
       "8    1011      Tapas   Vododara     75000.0\n",
       "9    1012  Madhumita    Gwalior     77000.0"
      ]
     },
     "execution_count": 46,
     "metadata": {},
     "output_type": "execute_result"
    }
   ],
   "source": [
    "sqlStr = \"SELECT * FROM employee;\"\n",
    "table = connection.execute(sqlStr)\n",
    "column_heads = [\"EMP-ID\", \"EMP-Name\", \"EMP-City\", \"EMP-Salary\"]\n",
    "records_df = pd.DataFrame(data = list(table), columns = column_heads)\n",
    "records_df"
   ]
  },
  {
   "cell_type": "code",
   "execution_count": 53,
   "id": "d236a0dd-1545-4ca0-bfa4-8594a0cf13ac",
   "metadata": {},
   "outputs": [
    {
     "data": {
      "image/png": "[encoded data removed]",
      "text/plain": [
       "<Figure size 432x288 with 1 Axes>"
      ]
     },
     "metadata": {
      "needs_background": "light"
     },
     "output_type": "display_data"
    }
   ],
   "source": [
    "# basic data visualization\n",
    "import matplotlib.pyplot as plt\n",
    "plt.scatter(records_df[\"EMP-ID\"], records_df[\"EMP-Salary\"], s = 100)\n",
    "plt.xlabel(\"Employee ID...\")\n",
    "plt.ylabel(\"Employee Salary (in INR)...\")\n",
    "plt.title(\"Employee ID vs. Employee Salary (INR)...\")\n",
    "plt.show()"
   ]
  },
  {
   "cell_type": "code",
   "execution_count": null,
   "id": "ffc183dd-b0d1-42bc-9b8b-7331f16de5fc",
   "metadata": {},
   "outputs": [],
   "source": [
    "# Class Assignment:\n",
    "# Total = 1 + 2 + 3 + 4 + 10 + 5 + 6 + 7 + 8 + 26 + 9 + 10 + ... n terms\n",
    "# Take a value for n from the user and calculate the sum of first n terms of the given series.\n",
    "# What is the 99th term of the series?"
   ]
  },
  {
   "cell_type": "code",
   "execution_count": null,
   "id": "04bec981-6923-4f39-8f81-7fda698aa863",
   "metadata": {},
   "outputs": [],
   "source": []
  }
 ],
 "metadata": {
  "kernelspec": {
   "display_name": "Python 3",
   "language": "python",
   "name": "python3"
  },
  "language_info": {
   "codemirror_mode": {
    "name": "ipython",
    "version": 3
   },
   "file_extension": ".py",
   "mimetype": "text/x-python",
   "name": "python",
   "nbconvert_exporter": "python",
   "pygments_lexer": "ipython3",
   "version": "3.8.8"
  }
 },
 "nbformat": 4,
 "nbformat_minor": 5
}
