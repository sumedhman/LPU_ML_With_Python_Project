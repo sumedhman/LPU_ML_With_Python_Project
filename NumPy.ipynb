{
 "cells": [
  {
   "cell_type": "markdown",
   "id": "472d7c9c-3e12-41a5-b907-ed5876b4c824",
   "metadata": {},
   "source": [
    "### NUMPY: Arrays and Matrices"
   ]
  },
  {
   "cell_type": "markdown",
   "id": "e6bd922e-4f22-448e-bc26-d311fd04cc0b",
   "metadata": {},
   "source": [
    "> **NumPy** is an extension to the Python programming language, adding support for large, multi-dimensional (numerical) arrays and matrices, along with a large library of high-level mathematical functions to operate on these arrays. NumPy is having the full form **\"Numeric Python\"**."
   ]
  },
  {
   "cell_type": "code",
   "execution_count": 1,
   "id": "b6c6a25c-1e57-45d5-ac72-ab52d54f3089",
   "metadata": {},
   "outputs": [],
   "source": [
    "# importing required module\n",
    "import numpy as np"
   ]
  },
  {
   "cell_type": "markdown",
   "id": "977ff92a-940d-4896-8a9d-56830b314aaf",
   "metadata": {},
   "source": [
    "### Create arrays"
   ]
  },
  {
   "cell_type": "code",
   "execution_count": 13,
   "id": "5c206435-5940-4396-aa55-cc2c080d3c0c",
   "metadata": {},
   "outputs": [
    {
     "name": "stdout",
     "output_type": "stream",
     "text": [
      "[11, 22, 33, 44, 55] 5 <class 'list'> 1964379217344\n",
      "[11 22 33 44 55] 5 <class 'numpy.ndarray'> 1964382849808 int32\n",
      "\n",
      "[11, 22.5, 33, 44, 55] 5 <class 'list'> 1964384372608\n",
      "[11.  22.5 33.  44.  55. ] 5 <class 'numpy.ndarray'> 1964363806544 float64\n"
     ]
    }
   ],
   "source": [
    "# create ndarrays from lists\n",
    "# note: every element in the ndarray ultimately will have same data type. (Will be converted to the same datatype if required)\n",
    "data1 = [11, 22, 33, 44, 55]   # list of all integers\n",
    "print (data1, len(data1), type(data1), id(data1))\n",
    "arr1 = np.array(data1)\n",
    "print (arr1, len(arr1), type(arr1), id(arr1), arr1.dtype)\n",
    "print ()\n",
    "data1 = [11, 22.5, 33, 44, 55]   # list of all integers\n",
    "print (data1, len(data1), type(data1), id(data1))\n",
    "arr1 = np.array(data1)\n",
    "print (arr1, len(arr1), type(arr1), id(arr1), arr1.dtype)"
   ]
  },
  {
   "cell_type": "code",
   "execution_count": 14,
   "id": "bb4efdc3-5fb0-47fb-8d10-e82120d20d83",
   "metadata": {},
   "outputs": [
    {
     "name": "stdout",
     "output_type": "stream",
     "text": [
      "[11, 22, '33', 44, 55] 5 <class 'list'> 1964378157632\n",
      "['11' '22' '33' '44' '55'] 5 <class 'numpy.ndarray'> 1964382850096 <U11\n",
      "\n",
      "[11, 22, True, 33, 44, False, 55] 7 <class 'list'> 1964374089344\n",
      "[11 22  1 33 44  0 55] 7 <class 'numpy.ndarray'> 1964382848944 int32\n",
      "\n",
      "[11, 22.5, '33', False, 44, 55] 6 <class 'list'> 1964331785664\n",
      "['11' '22.5' '33' 'False' '44' '55'] 6 <class 'numpy.ndarray'> 1964382847984 <U32\n"
     ]
    }
   ],
   "source": [
    "data1 = [11, 22, '33', 44, 55]   # list of all integers\n",
    "print (data1, len(data1), type(data1), id(data1))\n",
    "arr1 = np.array(data1)\n",
    "print (arr1, len(arr1), type(arr1), id(arr1), arr1.dtype)\n",
    "print ()\n",
    "data1 = [11, 22, True, 33, 44, False, 55]   # list of all integers\n",
    "print (data1, len(data1), type(data1), id(data1))\n",
    "arr1 = np.array(data1)\n",
    "print (arr1, len(arr1), type(arr1), id(arr1), arr1.dtype)\n",
    "print ()\n",
    "data1 = [11, 22.5, '33', False, 44, 55]   # list of all integers\n",
    "print (data1, len(data1), type(data1), id(data1))\n",
    "arr1 = np.array(data1)\n",
    "print (arr1, len(arr1), type(arr1), id(arr1), arr1.dtype)"
   ]
  },
  {
   "cell_type": "code",
   "execution_count": 18,
   "id": "3a70f581-0c8e-42c2-8ddf-f794c346be99",
   "metadata": {},
   "outputs": [
    {
     "name": "stdout",
     "output_type": "stream",
     "text": [
      "[1, 2, 3, 4]\n",
      "[range(1, 5), range(5, 9)] <class 'list'>\n",
      "1, 2, 3, 4, \n",
      "5, 6, 7, 8, \n"
     ]
    }
   ],
   "source": [
    "print (list(range(1, 5)))   # range function creates a list\n",
    "data2 = [range(1, 5), range(5, 9)]   # list of lists\n",
    "print (data2, type(data2))\n",
    "for list1 in data2:\n",
    "    for element in list1:\n",
    "        print (element, end = \", \")\n",
    "    print()"
   ]
  },
  {
   "cell_type": "code",
   "execution_count": 21,
   "id": "6e0c5fe0-4b6a-4cb8-b4a9-8c208af1433c",
   "metadata": {},
   "outputs": [
    {
     "name": "stdout",
     "output_type": "stream",
     "text": [
      "[[1 2 3 4]\n",
      " [5 6 7 8]] <class 'numpy.ndarray'>\n",
      "[array([1, 2, 3, 4]), array([5, 6, 7, 8])] <class 'list'>\n",
      "[[1, 2, 3, 4], [5, 6, 7, 8]] <class 'list'>\n"
     ]
    }
   ],
   "source": [
    "arr2 = np.array(data2)\n",
    "print (arr2, type(arr2))\n",
    "list1 = list(arr2)\n",
    "print (list1, type(list1))\n",
    "list1 = arr2.tolist()\n",
    "print (list1, type(list1))"
   ]
  },
  {
   "cell_type": "code",
   "execution_count": 33,
   "id": "3fd9aada-54d7-4c7b-af6d-eb02a4b417ad",
   "metadata": {},
   "outputs": [
    {
     "name": "stdout",
     "output_type": "stream",
     "text": [
      "[22 11 44 33 55] <class 'numpy.ndarray'>\n",
      "int32 (5,) 5 1 5\n",
      "[[22 11 44 33 55]\n",
      " [77 88 99 34 66]] <class 'numpy.ndarray'>\n",
      "int32 (2, 5) 2 2 10\n"
     ]
    }
   ],
   "source": [
    "# examining arrays\n",
    "arr1 = np.array([22, 11, 44, 33, 55])\n",
    "print (arr1, type(arr1))\n",
    "print (arr1.dtype, arr1.shape, len(arr1), arr1.ndim, arr1.size)\n",
    "arr2 = np.array([[22, 11, 44, 33, 55], [77, 88, 99, 34, 66]])\n",
    "print (arr2, type(arr2))\n",
    "print (arr2.dtype, arr2.shape, len(arr2), arr2.ndim, arr2.size)"
   ]
  },
  {
   "cell_type": "code",
   "execution_count": 29,
   "id": "a2e38dd6-ded2-41c6-907e-e0bda01ac4a0",
   "metadata": {},
   "outputs": [
    {
     "name": "stdout",
     "output_type": "stream",
     "text": [
      "5 <class 'int'>\n",
      "(5,) <class 'tuple'>\n"
     ]
    }
   ],
   "source": [
    "var1 = (5)\n",
    "print (var1, type(var1))\n",
    "var1 = (5,)\n",
    "print (var1, type(var1))"
   ]
  },
  {
   "cell_type": "code",
   "execution_count": 43,
   "id": "b45a501a-4db8-4649-9bc1-04e9c18bdc8f",
   "metadata": {},
   "outputs": [
    {
     "name": "stdout",
     "output_type": "stream",
     "text": [
      "[0. 0. 0. 0. 0. 0. 0. 0. 0. 0.]\n",
      "[[0. 0. 0. 0. 0.]\n",
      " [0. 0. 0. 0. 0.]]\n",
      "[[0. 0. 0. 0. 0.]\n",
      " [0. 0. 0. 0. 0.]]\n",
      "[0 0 0 0 0 0 0 0 0 0]\n",
      "[0 0 0 0 0 0 0 0 0 0]\n",
      "[[0 0 0 0 0]\n",
      " [0 0 0 0 0]]\n",
      "[5. 5. 5. 5. 5. 5. 5. 5. 5. 5.]\n"
     ]
    }
   ],
   "source": [
    "# create special arrays\n",
    "print (np.zeros(10))\n",
    "print (np.zeros((2, 5)))\n",
    "print (np.zeros(10).reshape(2, 5))\n",
    "print (np.zeros(10).astype(int))\n",
    "print (np.zeros(10, int))\n",
    "print (np.zeros(10).reshape(2, 5).astype(int))\n",
    "print (np.zeros(10) + 5)"
   ]
  },
  {
   "cell_type": "code",
   "execution_count": 44,
   "id": "cf56c851-7222-49aa-a516-f6418df67497",
   "metadata": {},
   "outputs": [
    {
     "name": "stdout",
     "output_type": "stream",
     "text": [
      "[1. 1. 1. 1. 1. 1. 1. 1. 1. 1.]\n",
      "[[1. 1. 1. 1. 1.]\n",
      " [1. 1. 1. 1. 1.]]\n",
      "[[1. 1. 1. 1. 1.]\n",
      " [1. 1. 1. 1. 1.]]\n",
      "[1 1 1 1 1 1 1 1 1 1]\n",
      "[1 1 1 1 1 1 1 1 1 1]\n",
      "[[1 1 1 1 1]\n",
      " [1 1 1 1 1]]\n",
      "[5. 5. 5. 5. 5. 5. 5. 5. 5. 5.]\n"
     ]
    }
   ],
   "source": [
    "print (np.ones(10))\n",
    "print (np.ones((2, 5)))\n",
    "print (np.ones(10).reshape(2, 5))\n",
    "print (np.ones(10).astype(int))\n",
    "print (np.ones(10, int))\n",
    "print (np.ones(10).reshape(2, 5).astype(int))\n",
    "print (np.ones(10) * 5)"
   ]
  },
  {
   "cell_type": "code",
   "execution_count": 59,
   "id": "a43e24d2-2698-4585-bd4a-28e56435b5f3",
   "metadata": {},
   "outputs": [
    {
     "name": "stdout",
     "output_type": "stream",
     "text": [
      "[0.   0.25 0.5  0.75 1.  ]\n",
      "[0.  0.2 0.4 0.6 0.8 1. ]\n",
      "[11. 12. 13. 14. 15. 16. 17. 18. 19. 20. 21.]\n",
      "[0.         0.02040816 0.04081633 0.06122449 0.08163265 0.10204082\n",
      " 0.12244898 0.14285714 0.16326531 0.18367347 0.20408163 0.2244898\n",
      " 0.24489796 0.26530612 0.28571429 0.30612245 0.32653061 0.34693878\n",
      " 0.36734694 0.3877551  0.40816327 0.42857143 0.44897959 0.46938776\n",
      " 0.48979592 0.51020408 0.53061224 0.55102041 0.57142857 0.59183673\n",
      " 0.6122449  0.63265306 0.65306122 0.67346939 0.69387755 0.71428571\n",
      " 0.73469388 0.75510204 0.7755102  0.79591837 0.81632653 0.83673469\n",
      " 0.85714286 0.87755102 0.89795918 0.91836735 0.93877551 0.95918367\n",
      " 0.97959184 1.        ]\n"
     ]
    }
   ],
   "source": [
    "print (np.linspace(0, 1, 5))\n",
    "print (np.linspace(0, 1, 6))\n",
    "print (np.linspace(11, 21, 11))\n",
    "print (np.linspace(0, 1))"
   ]
  },
  {
   "cell_type": "code",
   "execution_count": 54,
   "id": "b953fa04-a8ad-4eea-95dd-9f47facaf5fd",
   "metadata": {},
   "outputs": [
    {
     "name": "stdout",
     "output_type": "stream",
     "text": [
      "[   1.   10.  100. 1000.]\n",
      "[1.e+00 1.e+01 1.e+02 1.e+03 1.e+04 1.e+05]\n",
      "[     1     10    100   1000  10000 100000]\n",
      "[ 1  2  4  8 16 32]\n"
     ]
    }
   ],
   "source": [
    "print (np.logspace(0, 3, 4))\n",
    "print (np.logspace(0, 5, 6))\n",
    "print (np.logspace(0, 5, 6).astype(int))\n",
    "print (np.logspace(0, 5, 6, base = 2).astype(int))"
   ]
  },
  {
   "cell_type": "code",
   "execution_count": 61,
   "id": "5609c6c9-85f7-497e-b025-a28d9ed055b5",
   "metadata": {},
   "outputs": [],
   "source": [
    "# help(np.logspace)\n",
    "# help(np.linspace)"
   ]
  },
  {
   "cell_type": "code",
   "execution_count": 64,
   "id": "30622720-b927-46c8-a970-d875d3968622",
   "metadata": {},
   "outputs": [
    {
     "name": "stdout",
     "output_type": "stream",
     "text": [
      "[0, 1, 2, 3, 4] 5 <class 'list'>\n",
      "[0 1 2 3 4] 5 <class 'numpy.ndarray'>\n",
      "[0. 1. 2. 3. 4.] 5 <class 'numpy.ndarray'>\n"
     ]
    }
   ],
   "source": [
    "# arange is like range, except it returns an array (but not a list)\n",
    "int_list = list(range(5))\n",
    "print (int_list, len(int_list), type(int_list))\n",
    "int_array = np.arange(5)\n",
    "print (int_array, len(int_array), type(int_array))\n",
    "float_array = int_array.astype(float)\n",
    "print (float_array, len(float_array), type(float_array))"
   ]
  },
  {
   "cell_type": "markdown",
   "id": "59afa751-6984-4164-8f21-fd880b4c8cd1",
   "metadata": {},
   "source": [
    "### Reshape"
   ]
  },
  {
   "cell_type": "code",
   "execution_count": 74,
   "id": "701a48b9-9b51-4962-8443-accd0ec403ee",
   "metadata": {},
   "outputs": [
    {
     "name": "stdout",
     "output_type": "stream",
     "text": [
      "[0. 1. 2. 3. 4. 5. 6. 7. 8. 9.] (10,)\n",
      "[[0. 1. 2. 3. 4.]\n",
      " [5. 6. 7. 8. 9.]] (2, 5)\n",
      "[[0 1 2 3 4]\n",
      " [5 6 7 8 9]] (2, 5)\n",
      "[[0 1 2 3 4]\n",
      " [5 6 7 8 9]] (2, 5)\n"
     ]
    }
   ],
   "source": [
    "matrix = np.arange(10, dtype = float)\n",
    "print (matrix, matrix.shape)\n",
    "matrix = matrix.reshape((2, 5))\n",
    "print (matrix, matrix.shape)\n",
    "matrix = matrix.reshape((2, 5)).astype(int)\n",
    "print (matrix, matrix.shape)\n",
    "matrix = matrix.astype(int).reshape((2, 5))\n",
    "print (matrix, matrix.shape)"
   ]
  },
  {
   "cell_type": "code",
   "execution_count": 82,
   "id": "3ea496d4-1554-4656-bee5-8ce5628f8b42",
   "metadata": {},
   "outputs": [
    {
     "name": "stdout",
     "output_type": "stream",
     "text": [
      "[[0 1 2 3 4]\n",
      " [5 6 7 8 9]]\n",
      "[[0 5]\n",
      " [1 6]\n",
      " [2 7]\n",
      " [3 8]\n",
      " [4 9]]\n",
      "[[0 5]\n",
      " [1 6]\n",
      " [2 7]\n",
      " [3 8]\n",
      " [4 9]]\n",
      "[[0 1 2 3 4]\n",
      " [5 6 7 8 9]]\n",
      "[[0 1 2 3 4]\n",
      " [5 6 7 8 9]]\n"
     ]
    }
   ],
   "source": [
    "print (matrix)\n",
    "print (matrix.T)\n",
    "print (matrix.transpose())\n",
    "print (matrix.transpose().T)\n",
    "print (matrix.T.transpose())"
   ]
  },
  {
   "cell_type": "code",
   "execution_count": 84,
   "id": "154f8f9a-6220-4e07-baa8-901a3b7b2210",
   "metadata": {},
   "outputs": [
    {
     "name": "stdout",
     "output_type": "stream",
     "text": [
      "[[0 1 2 3 4]\n",
      " [5 6 7 8 9]]\n",
      "[0 1 2 3 4 5 6 7 8 9]\n",
      "[0 1 2 3 4 5 6 7 8 9]\n"
     ]
    }
   ],
   "source": [
    "print (matrix)\n",
    "print (matrix.flatten())\n",
    "print (matrix.reshape(10))"
   ]
  },
  {
   "cell_type": "code",
   "execution_count": 92,
   "id": "5003fd67-2ecb-4c65-a1b9-b61862a1f917",
   "metadata": {},
   "outputs": [
    {
     "name": "stdout",
     "output_type": "stream",
     "text": [
      "[[0. 1. 2. 3. 4.]\n",
      " [5. 6. 7. 8. 9.]]\n",
      "0.0, 1.0, 2.0, 3.0, 4.0, 5.0, 6.0, 7.0, 8.0, 9.0, \n",
      "\n",
      "Sorted in F-style order (Column Major):\n",
      "[[0. 1. 2. 3. 4.]\n",
      " [5. 6. 7. 8. 9.]]\n",
      "0.0, 5.0, 1.0, 6.0, 2.0, 7.0, 3.0, 8.0, 4.0, 9.0, \n",
      "\n",
      "Sorted in C-style order (Row Major):\n",
      "[[0. 1. 2. 3. 4.]\n",
      " [5. 6. 7. 8. 9.]]\n",
      "0.0, 1.0, 2.0, 3.0, 4.0, 5.0, 6.0, 7.0, 8.0, 9.0, "
     ]
    }
   ],
   "source": [
    "matrix = np.arange(10, dtype = float).reshape((2, 5))\n",
    "print (matrix)\n",
    "for item in np.nditer(matrix):\n",
    "    print (item, end = \", \")\n",
    "    \n",
    "print (\"\\n\\nSorted in F-style order (Column Major):\")\n",
    "fmatrix = matrix.copy(order = 'F')\n",
    "print (fmatrix)\n",
    "for item in np.nditer(fmatrix):\n",
    "    print (item, end = \", \")\n",
    "    \n",
    "print (\"\\n\\nSorted in C-style order (Row Major):\")\n",
    "cmatrix = matrix.copy(order = 'C')\n",
    "print (cmatrix)\n",
    "for item in np.nditer(cmatrix):\n",
    "    print (item, end = \", \")"
   ]
  },
  {
   "cell_type": "markdown",
   "id": "2c4c98a6-50d0-4965-bb11-70eb19fca7cb",
   "metadata": {},
   "source": [
    "### Append, Insert, Delete and Sort"
   ]
  },
  {
   "cell_type": "code",
   "execution_count": 105,
   "id": "c39a09db-bc11-43f7-b9ed-1d4ed6d73901",
   "metadata": {},
   "outputs": [
    {
     "name": "stdout",
     "output_type": "stream",
     "text": [
      "[0 1 2 3 4 5 6 7 8 9]\n",
      "[ 0  1  2  3  4  5  6  7  8  9 10 11 12]\n",
      "[ 0  1  2 13 14 15  3  4  5  6  7  8  9 10 11 12]\n",
      "[  0   1   2  13  14  15 100   3   4   5   6   7   8   9  10  11  12]\n",
      "[ 0  1  2 13 14  4  5  6  7  8  9 10 11 12]\n",
      "[ 0  1  2 13 14  7  8  9 10 11 12]\n",
      "[ 0  1  2  7  8  9 10 11 12 13 14]\n",
      "[14 13 12 11 10  9  8  7  2  1  0]\n"
     ]
    }
   ],
   "source": [
    "matrix = np.arange(10, dtype = np.int8)\n",
    "print (matrix)\n",
    "matrix = np.append(matrix, [10, 11, 12])\n",
    "print (matrix)\n",
    "matrix = np.insert(matrix, 3, [13, 14, 15])\n",
    "print (matrix)\n",
    "matrix = np.insert(matrix, 6, [100])\n",
    "print (matrix)\n",
    "matrix = np.delete(matrix, [5, 6, 7])\n",
    "print (matrix)\n",
    "matrix = np.delete(matrix, range(5, 8))\n",
    "print (matrix)\n",
    "matrix = np.sort(matrix)\n",
    "print (matrix)\n",
    "matrix = -np.sort(-matrix)\n",
    "print (matrix)"
   ]
  },
  {
   "cell_type": "code",
   "execution_count": 107,
   "id": "8adeee4b-7888-4dcb-be3a-2afc9caba882",
   "metadata": {},
   "outputs": [],
   "source": [
    "# help(np.sort)"
   ]
  },
  {
   "cell_type": "markdown",
   "id": "2e6f511f-4ae0-41c5-8f11-2f13e7527247",
   "metadata": {},
   "source": [
    "### Concatenation and Stack of Two Arrays"
   ]
  },
  {
   "cell_type": "code",
   "execution_count": 115,
   "id": "69a10673-3fd0-433f-98f7-614e174170d1",
   "metadata": {},
   "outputs": [
    {
     "name": "stdout",
     "output_type": "stream",
     "text": [
      "First array is:\n",
      "[[1 2]\n",
      " [3 4]]\n",
      "Second array is:\n",
      "[[5 6]\n",
      " [7 8]]\n",
      "\n",
      "Joining the two arrays along axis 0:\n",
      "[[1 2]\n",
      " [3 4]\n",
      " [5 6]\n",
      " [7 8]]\n",
      "\n",
      "Joining the two arrays along axis 1:\n",
      "[[1 2 5 6]\n",
      " [3 4 7 8]]\n"
     ]
    }
   ],
   "source": [
    "a = np.array([[1, 2], [3, 4]])\n",
    "print (\"First array is:\")\n",
    "print (a)\n",
    "\n",
    "b = np.array([[5, 6], [7, 8]])\n",
    "print (\"Second array is:\")\n",
    "print (b)\n",
    "print ()\n",
    "# both the arrays are of the same dimensions\n",
    "print (\"Joining the two arrays along axis 0:\")\n",
    "# print (np.concatenate((a, b), axis = 0))\n",
    "print (np.concatenate((a, b)))\n",
    "print ()\n",
    "print (\"Joining the two arrays along axis 1:\")\n",
    "print (np.concatenate((a, b), axis = 1))"
   ]
  },
  {
   "cell_type": "code",
   "execution_count": 118,
   "id": "5ac6e14d-7a5f-4489-9091-db2649bcd1d4",
   "metadata": {},
   "outputs": [
    {
     "name": "stdout",
     "output_type": "stream",
     "text": [
      "Stack the two arrays along axis 0:\n",
      "[[[1 2]\n",
      "  [3 4]]\n",
      "\n",
      " [[5 6]\n",
      "  [7 8]]] (2, 2, 2)\n"
     ]
    }
   ],
   "source": [
    "print ('Stack the two arrays along axis 0:')\n",
    "arr1 = np.stack((a, b), 0)\n",
    "print (arr1, arr1.shape)"
   ]
  },
  {
   "cell_type": "code",
   "execution_count": 119,
   "id": "a3b69b02-bfc9-4ffb-87b6-cb87499c6731",
   "metadata": {},
   "outputs": [
    {
     "name": "stdout",
     "output_type": "stream",
     "text": [
      "Stack the two arrays along axis 1:\n",
      "[[[1 2]\n",
      "  [5 6]]\n",
      "\n",
      " [[3 4]\n",
      "  [7 8]]] (2, 2, 2)\n"
     ]
    }
   ],
   "source": [
    "print ('Stack the two arrays along axis 1:')\n",
    "arr1 = np.stack((a, b), 1)\n",
    "print (arr1, arr1.shape)"
   ]
  },
  {
   "cell_type": "code",
   "execution_count": 123,
   "id": "42e2eb8e-6de3-4f05-b624-9ee7a5071360",
   "metadata": {},
   "outputs": [
    {
     "name": "stdout",
     "output_type": "stream",
     "text": [
      "[[100 200 300 400]] (1, 4) 2\n",
      "[100 200 300 400] (4,) 1\n",
      "[[[100 200 300 400]]] (1, 1, 4) 3\n",
      "[[[100]\n",
      "  [200]\n",
      "  [300]\n",
      "  [400]]] (1, 4, 1) 3\n"
     ]
    }
   ],
   "source": [
    "matrix = np.array([[100, 200, 300, 400]])\n",
    "print (matrix, matrix.shape, matrix.ndim)\n",
    "arr = matrix.reshape(-1)\n",
    "print (arr, arr.shape, arr.ndim)\n",
    "arr = matrix.reshape(-1, 1, 4)\n",
    "print (arr, arr.shape, arr.ndim)\n",
    "arr = matrix.reshape(1, 4, -1)\n",
    "print (arr, arr.shape, arr.ndim)"
   ]
  },
  {
   "cell_type": "code",
   "execution_count": 126,
   "id": "6ea0b2ad-66ec-480a-b0b9-f716d97709f3",
   "metadata": {},
   "outputs": [
    {
     "name": "stdout",
     "output_type": "stream",
     "text": [
      "[11 22 33 44] (4,)\n",
      "[[11 22 33]\n",
      " [44 11 22]] (2, 3)\n",
      "[[11 22 33 44 11]\n",
      " [22 33 44 11 22]] (2, 5)\n"
     ]
    }
   ],
   "source": [
    "arr = np.array([11, 22, 33, 44])\n",
    "print (arr, arr.shape)\n",
    "arr1 = np.resize(arr, (2, 3))\n",
    "print (arr1, arr1.shape)\n",
    "arr1 = np.resize(arr, (2, 5))\n",
    "print (arr1, arr1.shape)"
   ]
  },
  {
   "cell_type": "markdown",
   "id": "1118e444-5679-48db-a72c-d5011d14582a",
   "metadata": {},
   "source": [
    "### Selection"
   ]
  },
  {
   "cell_type": "code",
   "execution_count": 133,
   "id": "659986db-58a0-439e-a842-cd9339fd86d0",
   "metadata": {},
   "outputs": [
    {
     "name": "stdout",
     "output_type": "stream",
     "text": [
      "[11 22 33 44 55]\n",
      "11 11 22 22\n",
      "[33 44 55] [11 22 33]\n",
      "[55 44 33 22 11]\n"
     ]
    }
   ],
   "source": [
    "arr1 = np.array([11, 22, 33, 44, 55])\n",
    "print (arr1)\n",
    "print (arr1[0], arr1[-5], arr1[1], arr1[-4])\n",
    "print (arr1[2:], arr1[:3])\n",
    "print (arr1[::-1])"
   ]
  },
  {
   "cell_type": "code",
   "execution_count": 140,
   "id": "5cec1d7f-22df-4083-911f-ad0bfaacd285",
   "metadata": {},
   "outputs": [
    {
     "name": "stdout",
     "output_type": "stream",
     "text": [
      "[[1 2 3 4]\n",
      " [5 6 7 8]]\n",
      "7 [1 2 3 4] [5 6 7 8]\n",
      "[3 7]\n",
      "[[2 3 4]\n",
      " [6 7 8]]\n"
     ]
    }
   ],
   "source": [
    "arr2 = np.array([range(1, 5), range(5, 9)])\n",
    "print (arr2)\n",
    "print (arr2[1][2], arr2[0, :], arr2[1, :])\n",
    "print (arr2[:, 2])\n",
    "print (arr2[:, 1:4])"
   ]
  },
  {
   "cell_type": "markdown",
   "id": "0e14efe9-3a74-4041-bfb9-8dfe288cc209",
   "metadata": {},
   "source": [
    "### Views and Copies"
   ]
  },
  {
   "cell_type": "code",
   "execution_count": 146,
   "id": "040d33f5-e6a1-4bff-9d9a-34f09508ce8f",
   "metadata": {},
   "outputs": [
    {
     "name": "stdout",
     "output_type": "stream",
     "text": [
      "[0 1 2 3 4 5 6 7 8 9]\n",
      "[5 6 7]\n",
      "[ 0  1  2  3  4 12 12 12  8  9]\n",
      "[12 12 12]\n",
      "[ 0  1  2  3  4 25 25 25  8  9] [25 25 25]\n",
      "\n",
      "[25 25 25]\n",
      "[ 0  1  2  3  4 25 25 25  8  9] [75 75 75]\n"
     ]
    }
   ],
   "source": [
    "arr = np.arange(10)\n",
    "print (arr)\n",
    "print (arr[5:8])\n",
    "arr[5:8] = 12\n",
    "print (arr)\n",
    "arr_view = arr[5:8]\n",
    "print (arr_view)\n",
    "arr_view[:] = 25\n",
    "print (arr, arr_view)\n",
    "print ()\n",
    "arr_copy = arr[5:8].copy()\n",
    "print (arr_copy)\n",
    "arr_copy[:] = 75\n",
    "print (arr, arr_copy)"
   ]
  },
  {
   "cell_type": "markdown",
   "id": "60b82291-1ecb-4b7f-92a3-d89c4e87f251",
   "metadata": {},
   "source": [
    "### Using Boolean Arrays"
   ]
  },
  {
   "cell_type": "code",
   "execution_count": 164,
   "id": "8ec66c64-ef66-40e1-aee0-09d58273f666",
   "metadata": {},
   "outputs": [
    {
     "name": "stdout",
     "output_type": "stream",
     "text": [
      "[1 2 3 4 5 6 7 8 9] [False False False False False  True  True  True  True] [ True  True  True  True  True False False False False]\n",
      "[False  True False  True False  True False  True False]\n",
      "[2 4 6 8] [1 3 5 7 9]\n",
      "[False False  True  True  True  True  True  True False]\n",
      "[3 4 5 6 7 8]\n",
      "[ 0  1  2  3  4  5  6  7  8  9 10 11 12 13 14 15 16 17 18 19 20 21 22 23\n",
      " 24 25 26 27 28 29 30 31 32 33 34 35 36 37 38 39 40 41 42 43 44 45 46 47\n",
      " 48 49 50 51 52 53 54 55 56 57 58 59 60]\n",
      "[ 0  6 12 18 24 30 36 42 48 54 60]\n",
      "[ 0  6 12 18 24 30 36 42 48 54 60]\n",
      "[ 0  2  3  4  6  8  9 10 12 14 15 16 18 20 21 22 24 26 27 28 30 32 33 34\n",
      " 36 38 39 40 42 44 45 46 48 50 51 52 54 56 57 58 60]\n"
     ]
    }
   ],
   "source": [
    "arr = np.array([1, 2, 3, 4, 5, 6, 7, 8, 9])\n",
    "print (arr, arr > 5, ~(arr > 5))\n",
    "print (arr % 2 == 0)\n",
    "print (arr[arr % 2 == 0], arr[~(arr % 2 == 0)])\n",
    "print ((arr >= 3) & (arr <= 8))\n",
    "print (arr[(arr >= 3) & (arr <= 8)])\n",
    "arr = np.arange(0, 61)\n",
    "print (arr)\n",
    "print (arr[(arr % 2 == 0) & (arr % 3 == 0)])\n",
    "print (arr[arr % 6 == 0])\n",
    "print (arr[(arr % 2 == 0) | (arr % 3 == 0)])"
   ]
  },
  {
   "cell_type": "code",
   "execution_count": 173,
   "id": "e3aa39a3-1455-4a25-bb50-542643d0b6ce",
   "metadata": {},
   "outputs": [
    {
     "name": "stdout",
     "output_type": "stream",
     "text": [
      "['Bob' 'Tom' 'Pat' 'Bob']\n",
      "[ True False False  True] ['Bob' 'Bob']\n",
      "[False  True  True False] ['Tom' 'Pat']\n",
      "['Bob' 'Jam' 'Jam' 'Bob']\n",
      "['Bob' 'Jam']\n"
     ]
    }
   ],
   "source": [
    "names = np.array(['Bob', 'Tom', 'Pat', 'Bob'])\n",
    "print (names)\n",
    "print (names == 'Bob', names[names == 'Bob'])\n",
    "print (names != 'Bob', names[names != 'Bob'])\n",
    "names[names != 'Bob'] = 'Jam'\n",
    "print (names)\n",
    "print (np.unique(names))"
   ]
  },
  {
   "cell_type": "markdown",
   "id": "566a1587-6c20-4777-a4b7-4625735ad73b",
   "metadata": {},
   "source": [
    "### Vectorized Operations"
   ]
  },
  {
   "cell_type": "code",
   "execution_count": 182,
   "id": "0e2ae7b6-1360-4bab-bd91-0cc5c83bc4dc",
   "metadata": {},
   "outputs": [
    {
     "name": "stdout",
     "output_type": "stream",
     "text": [
      "[0 1 2 3 4]\n",
      "[ 0  5 10 15 20]\n",
      "[100 101 102 103 104]\n",
      "[0.         1.         1.41421356 1.73205081 2.        ]\n",
      "[0. 1. 2. 2. 2.]\n",
      "[0. 1. 1. 1. 2.]\n",
      "[0 1 2 3 4] [100 101 102 103 104]\n",
      "[100 102 104 106 108] [-100 -100 -100 -100 -100]\n",
      "[False False False False False]\n"
     ]
    }
   ],
   "source": [
    "nums = np.arange(5)\n",
    "print (nums)\n",
    "print (nums * 5)\n",
    "print (nums + 100)\n",
    "print (np.sqrt(nums))\n",
    "print (np.ceil(np.sqrt(nums)))\n",
    "print (np.floor(np.sqrt(nums)))\n",
    "nums1 = np.arange(5) + 100\n",
    "print (nums, nums1)\n",
    "print (nums + nums1, nums - nums1)\n",
    "print (np.isnan(nums))"
   ]
  },
  {
   "cell_type": "code",
   "execution_count": 185,
   "id": "f7cadeb8-07d2-4281-a7e2-3532e4dbad08",
   "metadata": {},
   "outputs": [
    {
     "name": "stdout",
     "output_type": "stream",
     "text": [
      "[100.  200.    nan 400.    nan 500.5 600. ]\n",
      "[False False  True False  True False False]\n"
     ]
    }
   ],
   "source": [
    "nums = np.array([100, 200, np.nan, 400, np.nan, 500.5, 600])\n",
    "print (nums)\n",
    "print (np.isnan(nums))"
   ]
  },
  {
   "cell_type": "code",
   "execution_count": 189,
   "id": "de08ba77-ab55-427c-8013-ac4bc3d8d47d",
   "metadata": {},
   "outputs": [
    {
     "name": "stdout",
     "output_type": "stream",
     "text": [
      "[0 1 2 3 4]\n",
      "[10  1 13  3  5]\n",
      "[ 0 -2  2 -4  4]\n"
     ]
    }
   ],
   "source": [
    "nums = np.arange(5)\n",
    "print (nums)\n",
    "print (np.maximum(nums, np.array([10, -2, 13, -4, 5])))\n",
    "print (np.minimum(nums, np.array([10, -2, 13, -4, 5])))"
   ]
  },
  {
   "cell_type": "code",
   "execution_count": 205,
   "id": "47b32a7f-5183-4c17-a52b-9eff3fb6b519",
   "metadata": {},
   "outputs": [
    {
     "name": "stdout",
     "output_type": "stream",
     "text": [
      "[-0.47889894 -0.49123317  0.76305834  0.1877669  -1.0473643 ] 0.016709167601290598 1.003255629564469\n"
     ]
    }
   ],
   "source": [
    "# Pt1(x1, y1), Pt2(x2, y2), Eucledian Distance will be sqrt((x1 - x2)^2 + (y1 - y2)^2)\n",
    "# randn will generate normalized random numbers, where the average and std. div will be close to 0 and 1 respectively\n",
    "vect1 = np.random.randn(10000)\n",
    "print (vect1[:5], np.average(vect1), np.std(vect1))"
   ]
  },
  {
   "cell_type": "code",
   "execution_count": 212,
   "id": "1e2bcb8a-0128-406d-b7b3-b9a9e6775a5d",
   "metadata": {},
   "outputs": [
    {
     "name": "stdout",
     "output_type": "stream",
     "text": [
      "[ 0.06632879 -0.03086868  0.20629851 -1.75690688  1.05704081 -0.95292745\n",
      " -1.50510705  0.45272504  1.2630851   0.40108443]\n",
      "[-0.68905142  1.16419397  2.38776754  0.66751398  0.23752863  1.95990443\n",
      "  0.21241495  0.44989046  1.59767796 -0.99132026]\n",
      "5.176120216833163\n",
      "5.176120216833163\n",
      "5.176120216833163\n",
      "5.176120216833163\n",
      "5.176120216833163\n"
     ]
    }
   ],
   "source": [
    "vect1 = np.random.randn(10)\n",
    "print (vect1)\n",
    "vect2 = np.random.randn(10)\n",
    "print (vect2)\n",
    "total = 0\n",
    "for i in range(len(vect1)):\n",
    "    total = total + (vect1[i] - vect2[i]) ** 2\n",
    "print (np.sqrt(total))\n",
    "print (np.sqrt(np.sum((vect1 - vect2) ** 2)))\n",
    "print (np.sqrt(np.sum(pow(np.subtract(vect1, vect2), 2))))\n",
    "print (np.linalg.norm(vect1 - vect2))\n",
    "print (np.linalg.norm(np.subtract(vect1, vect2)))"
   ]
  },
  {
   "cell_type": "code",
   "execution_count": 222,
   "id": "4e9b8b30-8af7-44fd-a811-f130c5d9c71a",
   "metadata": {},
   "outputs": [
    {
     "name": "stdout",
     "output_type": "stream",
     "text": [
      "[0.090156   0.99450283 0.26036212 0.91722047 0.19922364 0.91059158\n",
      " 0.55384235 0.7923348  0.4103277  0.73068548]\n"
     ]
    }
   ],
   "source": [
    "vect1 = np.random.rand(10)\n",
    "print (vect1)"
   ]
  },
  {
   "cell_type": "code",
   "execution_count": 230,
   "id": "3b538a18-737c-4631-9cbe-cb1d2c3940a3",
   "metadata": {},
   "outputs": [
    {
     "name": "stdout",
     "output_type": "stream",
     "text": [
      "[[ 0.1414336  -1.41559259]\n",
      " [-1.23035427  0.406281  ]\n",
      " [ 1.96731212  1.37284618]\n",
      " [ 2.16330241  1.58740483]]\n",
      "0.6240791612139375 1.3010427708799939\n",
      "6 1\n",
      "[3.04169387 1.95093942]\n",
      "[-1.27415898 -0.82407327  3.3401583   3.75070724]\n"
     ]
    }
   ],
   "source": [
    "vect1 = np.random.randn(4, 2)\n",
    "print (vect1)\n",
    "print (vect1.mean(), vect1.std())\n",
    "print (vect1.argmax(), vect1. argmin())\n",
    "print (vect1.sum(axis = 0))\n",
    "print (vect1.sum(axis = 1))"
   ]
  },
  {
   "cell_type": "code",
   "execution_count": 237,
   "id": "55b29d17-8160-4ec3-a4a9-6586bde7a43e",
   "metadata": {},
   "outputs": [
    {
     "name": "stdout",
     "output_type": "stream",
     "text": [
      "[[ 0.95237863  1.03365781]\n",
      " [ 0.50812505  0.96066985]\n",
      " [-0.8131888  -0.16091605]\n",
      " [ 1.07956361  0.6545201 ]]\n",
      "[[ True  True]\n",
      " [ True  True]\n",
      " [False False]\n",
      " [ True  True]]\n",
      "6\n",
      "True\n",
      "False\n"
     ]
    }
   ],
   "source": [
    "vect1 = np.random.randn(4, 2)\n",
    "print (vect1)\n",
    "print (vect1 > 0)\n",
    "print ((vect1 > 0).sum())\n",
    "print ((vect1 > 0).any())\n",
    "print ((vect1 > 0).all())"
   ]
  },
  {
   "cell_type": "code",
   "execution_count": 268,
   "id": "ebf1c48e-b723-40c2-952a-18aeb4519b9e",
   "metadata": {},
   "outputs": [
    {
     "name": "stdout",
     "output_type": "stream",
     "text": [
      "[0.1530542  0.15768566 0.98549111 0.90449773 0.18607826 0.26770951\n",
      " 0.33405116 0.64459187 0.25140724 0.63520639]\n",
      "[0 0 2 0 0 3 4 4 2 1]\n"
     ]
    }
   ],
   "source": [
    "np.random.seed(90)\n",
    "nums = np.random.rand(10)\n",
    "print (nums)\n",
    "nums = np.random.randint(0, 5, 10)\n",
    "print (nums)"
   ]
  },
  {
   "cell_type": "code",
   "execution_count": 252,
   "id": "21678b2a-8c53-4f41-b10c-26bac61c89a2",
   "metadata": {},
   "outputs": [
    {
     "name": "stdout",
     "output_type": "stream",
     "text": [
      "[0 1 0 1 1 1 0 1 0 0]\n"
     ]
    }
   ],
   "source": [
    "nums = np.random.randint(0, 2, 10)\n",
    "print (nums)"
   ]
  },
  {
   "cell_type": "markdown",
   "id": "a65e371f-76b9-4b32-888d-31acc51dcf99",
   "metadata": {},
   "source": [
    "### Broadcasting"
   ]
  },
  {
   "cell_type": "code",
   "execution_count": 270,
   "id": "63d6abea-0120-4fc7-bd28-84addd3c9290",
   "metadata": {},
   "outputs": [
    {
     "name": "stdout",
     "output_type": "stream",
     "text": [
      "[[ 0  0  0]\n",
      " [10 10 10]\n",
      " [20 20 20]\n",
      " [30 30 30]] <class 'numpy.ndarray'>\n",
      "[[ 0]\n",
      " [10]\n",
      " [20]\n",
      " [30]] <class 'numpy.ndarray'>\n"
     ]
    }
   ],
   "source": [
    "a1 = np.array([[  0,  0,  0],\n",
    "               [ 10, 10, 10],\n",
    "               [ 20, 20, 20],\n",
    "               [ 30, 30, 30]])\n",
    "print (a1, type(a1))\n",
    "\n",
    "a2 = np.array([[0], [10], [20], [30]])\n",
    "print (a2, type(a2))"
   ]
  },
  {
   "cell_type": "code",
   "execution_count": 272,
   "id": "574a2680-d51b-4883-ad76-e104c77e155b",
   "metadata": {},
   "outputs": [
    {
     "name": "stdout",
     "output_type": "stream",
     "text": [
      "[[0 1 2]\n",
      " [0 1 2]\n",
      " [0 1 2]\n",
      " [0 1 2]] <class 'numpy.ndarray'>\n",
      "[0 1 2] <class 'numpy.ndarray'>\n"
     ]
    }
   ],
   "source": [
    "b1 = np.array([[  0,  1,  2],\n",
    "               [  0,  1,  2],\n",
    "               [  0,  1,  2],\n",
    "               [  0,  1,  2]])\n",
    "print (b1, type(b1))\n",
    "\n",
    "b2 = np.array([0, 1, 2])\n",
    "print (b2, type(b2))"
   ]
  },
  {
   "cell_type": "code",
   "execution_count": 274,
   "id": "43d2c5a7-3558-46cf-ad98-84e6cc7458f8",
   "metadata": {},
   "outputs": [
    {
     "name": "stdout",
     "output_type": "stream",
     "text": [
      "[[ 0  1  2]\n",
      " [10 11 12]\n",
      " [20 21 22]\n",
      " [30 31 32]]\n",
      "[[ 0  1  2]\n",
      " [10 11 12]\n",
      " [20 21 22]\n",
      " [30 31 32]]\n",
      "[[ 0  1  2]\n",
      " [10 11 12]\n",
      " [20 21 22]\n",
      " [30 31 32]]\n",
      "[[ 0  1  2]\n",
      " [10 11 12]\n",
      " [20 21 22]\n",
      " [30 31 32]]\n"
     ]
    }
   ],
   "source": [
    "result = a1 + b1\n",
    "print (result)\n",
    "result = a1 + b2\n",
    "print (result)\n",
    "result = a2 + b1\n",
    "print (result)\n",
    "result = a2 + b2\n",
    "print (result)"
   ]
  },
  {
   "cell_type": "code",
   "execution_count": 276,
   "id": "a21f3028-0c29-42c2-a79a-744f159b903b",
   "metadata": {},
   "outputs": [
    {
     "name": "stdout",
     "output_type": "stream",
     "text": [
      "[[ 0  1  2]\n",
      " [10 11 12]\n",
      " [20 21 22]\n",
      " [30 31 32]]\n",
      "[[ 0  1  2]\n",
      " [10 11 12]\n",
      " [20 21 22]\n",
      " [30 31 32]]\n",
      "[[ 0  1  2]\n",
      " [10 11 12]\n",
      " [20 21 22]\n",
      " [30 31 32]]\n",
      "[[ 0  1  2]\n",
      " [10 11 12]\n",
      " [20 21 22]\n",
      " [30 31 32]]\n"
     ]
    }
   ],
   "source": [
    "result = np.add(a1, b1)\n",
    "print (result)\n",
    "result = np.add(a1, b2)\n",
    "print (result)\n",
    "result = np.add(a2, b1)\n",
    "print (result)\n",
    "result = np.add(a2, b2)\n",
    "print (result)"
   ]
  },
  {
   "cell_type": "code",
   "execution_count": null,
   "id": "37cc7288-7363-42e5-af43-3425001e71e8",
   "metadata": {},
   "outputs": [],
   "source": []
  },
  {
   "cell_type": "code",
   "execution_count": null,
   "id": "4e852417-59a1-4022-b140-95d19177df2e",
   "metadata": {},
   "outputs": [],
   "source": []
  },
  {
   "cell_type": "code",
   "execution_count": null,
   "id": "b8ed876f-8ab7-49dc-a7f1-b3c2b83c6792",
   "metadata": {},
   "outputs": [],
   "source": []
  },
  {
   "cell_type": "code",
   "execution_count": null,
   "id": "45a41d7d-1099-43ab-ab0d-2a6be9f8b40d",
   "metadata": {},
   "outputs": [],
   "source": []
  },
  {
   "cell_type": "code",
   "execution_count": null,
   "id": "766bfcce-b658-4567-bc15-5c4398ccb5a1",
   "metadata": {},
   "outputs": [],
   "source": []
  },
  {
   "cell_type": "code",
   "execution_count": null,
   "id": "457d1a1e-da01-48a3-93bb-7722d00f0683",
   "metadata": {},
   "outputs": [],
   "source": []
  },
  {
   "cell_type": "code",
   "execution_count": null,
   "id": "42b379b6-86ed-4893-9372-577b35e2ca88",
   "metadata": {},
   "outputs": [],
   "source": []
  }
 ],
 "metadata": {
  "kernelspec": {
   "display_name": "Python 3",
   "language": "python",
   "name": "python3"
  },
  "language_info": {
   "codemirror_mode": {
    "name": "ipython",
    "version": 3
   },
   "file_extension": ".py",
   "mimetype": "text/x-python",
   "name": "python",
   "nbconvert_exporter": "python",
   "pygments_lexer": "ipython3",
   "version": "3.8.8"
  }
 },
 "nbformat": 4,
 "nbformat_minor": 5
}
