{
 "cells": [
  {
   "cell_type": "markdown",
   "id": "488c0f65-ec7d-4207-be46-76f4db43c46e",
   "metadata": {},
   "source": [
    "## Object Oriented Programming in Python"
   ]
  },
  {
   "cell_type": "markdown",
   "id": "cd1ae664-c0b0-46cb-8d24-50653e95f6de",
   "metadata": {},
   "source": [
    "> Procedural languages lack in encapsulation, difficult to manage when code size is greater than 10KLOC, variables are inprotected, and no automatic memory management by deleting dereferenced variables from the computer's primary memory."
   ]
  },
  {
   "cell_type": "code",
   "execution_count": 2,
   "id": "dfb585ee-22a9-4356-b022-1662a3d127ad",
   "metadata": {},
   "outputs": [],
   "source": [
    "class MyFirstClass:\n",
    "    pass    # statement place holder\n",
    "\n",
    "ob1 = MyFirstClass()"
   ]
  },
  {
   "cell_type": "code",
   "execution_count": 3,
   "id": "ff3a7cb8-76d1-4686-ac5e-4ccb472c2c35",
   "metadata": {},
   "outputs": [
    {
     "name": "stdout",
     "output_type": "stream",
     "text": [
      "This is a document\n",
      "    string for this class. Document string contains\n",
      "    class definition.\n",
      "This is a document\n",
      "    string for this class. Document string contains\n",
      "    class definition.\n"
     ]
    }
   ],
   "source": [
    "class MyFirstClass:\n",
    "    '''This is a document\n",
    "    string for this class. Document string contains\n",
    "    class definition.'''\n",
    "\n",
    "ob1 = MyFirstClass()\n",
    "print (ob1.__doc__)\n",
    "print (MyFirstClass.__doc__)"
   ]
  },
  {
   "cell_type": "code",
   "execution_count": 4,
   "id": "1eb08dce-8ec9-4b91-80aa-a741413826ed",
   "metadata": {},
   "outputs": [
    {
     "name": "stdout",
     "output_type": "stream",
     "text": [
      "int([x]) -> integer\n",
      "int(x, base=10) -> integer\n",
      "\n",
      "Convert a number or string to an integer, or return 0 if no arguments\n",
      "are given.  If x is a number, return x.__int__().  For floating point\n",
      "numbers, this truncates towards zero.\n",
      "\n",
      "If x is not a number or if base is given, then x must be a string,\n",
      "bytes, or bytearray instance representing an integer literal in the\n",
      "given base.  The literal can be preceded by '+' or '-' and be surrounded\n",
      "by whitespace.  The base defaults to 10.  Valid bases are 0 and 2-36.\n",
      "Base 0 means to interpret the base from the string as an integer literal.\n",
      ">>> int('0b100', base=0)\n",
      "4\n"
     ]
    }
   ],
   "source": [
    "print (int.__doc__)"
   ]
  },
  {
   "cell_type": "code",
   "execution_count": 5,
   "id": "e18e6bc9-0d28-43e6-b110-bc6117219fdb",
   "metadata": {},
   "outputs": [
    {
     "name": "stdout",
     "output_type": "stream",
     "text": [
      "str(object='') -> str\n",
      "str(bytes_or_buffer[, encoding[, errors]]) -> str\n",
      "\n",
      "Create a new string object from the given object. If encoding or\n",
      "errors is specified, then the object must expose a data buffer\n",
      "that will be decoded using the given encoding and error handler.\n",
      "Otherwise, returns the result of object.__str__() (if defined)\n",
      "or repr(object).\n",
      "encoding defaults to sys.getdefaultencoding().\n",
      "errors defaults to 'strict'.\n"
     ]
    }
   ],
   "source": [
    "print (str.__doc__)"
   ]
  },
  {
   "cell_type": "code",
   "execution_count": 11,
   "id": "d33188c8-f8b8-403e-81f0-ace7eb30f31c",
   "metadata": {},
   "outputs": [
    {
     "name": "stdout",
     "output_type": "stream",
     "text": [
      "Executing the constructor method...\n",
      "This is a document string-1...\n",
      "Executing the display method...\n",
      "Class variable is 100\n",
      "Class variable is 100\n",
      "Instance variable is 500\n"
     ]
    }
   ],
   "source": [
    "class MyFirstClass:\n",
    "    \"\"\"This is a document string...\"\"\"\n",
    "    class_var1 = 100   # static / class variable\n",
    "    def __init__(self, data1):   # self is known as an object binding variable\n",
    "        print (\"Executing the constructor method...\")\n",
    "        self.inst_var1 = data1    # instance variable\n",
    "    def display(self):\n",
    "        print (\"Executing the display method...\")\n",
    "        print (f\"Class variable is {MyFirstClass.class_var1}\")\n",
    "        print (f\"Class variable is {self.class_var1}\")\n",
    "        print (f\"Instance variable is {self.inst_var1}\")\n",
    "        \n",
    "ob1 = MyFirstClass(500)\n",
    "print (ob1.__doc__)\n",
    "ob1.display()"
   ]
  },
  {
   "cell_type": "code",
   "execution_count": 16,
   "id": "8ff9ed4f-1725-411b-9d79-a43e8d6cd0af",
   "metadata": {},
   "outputs": [
    {
     "name": "stdout",
     "output_type": "stream",
     "text": [
      "Executing the constructor method...\n",
      "This is a document string...\n",
      "Executing the display method...\n",
      "Class variable is 100\n",
      "Instance variable is 500\n",
      "Updating the class variable...\n",
      "\n",
      "Executing the constructor method...\n",
      "Executing the display method...\n",
      "Class variable is 150\n",
      "Instance variable is 900\n"
     ]
    }
   ],
   "source": [
    "class MyFirstClass:\n",
    "    \"\"\"This is a document string...\"\"\"\n",
    "    class_var1 = 100   # static / class variable\n",
    "    def __init__(self, data1):   # self is known as an object binding variable\n",
    "        print (\"Executing the constructor method...\")\n",
    "        self.inst_var1 = data1    # instance variable\n",
    "    def display(self):\n",
    "        print (\"Executing the display method...\")\n",
    "        print (f\"Class variable is {MyFirstClass.class_var1}\")\n",
    "        # print (f\"Class variable is {self.class_var1}\")\n",
    "        print (f\"Instance variable is {self.inst_var1}\")\n",
    "    def update(self):\n",
    "        print (\"Updating the class variable...\")\n",
    "        MyFirstClass.class_var1 += 50\n",
    "        \n",
    "ob1 = MyFirstClass(500)\n",
    "print (ob1.__doc__)\n",
    "ob1.display()\n",
    "ob1.update()\n",
    "print ()\n",
    "ob2 = MyFirstClass(900)\n",
    "ob2.display()"
   ]
  },
  {
   "cell_type": "code",
   "execution_count": 38,
   "id": "976f90f3-c911-4013-94f4-2bd1a1de7008",
   "metadata": {},
   "outputs": [
    {
     "name": "stdout",
     "output_type": "stream",
     "text": [
      "This is a document string...\n",
      "Executing the constructor method...\n",
      "Executing the display method...\n",
      "Class variable is 100\n",
      "Instance variable is 500\n",
      "\n",
      "Executing the constructor method...\n",
      "Executing the display method...\n",
      "Class variable is 100\n",
      "Instance variable is 900\n"
     ]
    }
   ],
   "source": [
    "class MyFirstClass:\n",
    "    \"\"\"This is a document string...\"\"\"\n",
    "    class_var1 = 100   # static / class variable\n",
    "    def __init__(self, data1):   # self is known as an object binding variable\n",
    "        print (\"Executing the constructor method...\")\n",
    "        self.inst_var1 = data1    # instance variable\n",
    "    def display(self):\n",
    "        print (\"Executing the display method...\")\n",
    "        print (f\"Class variable is {MyFirstClass.class_var1}\")\n",
    "        # print (f\"Class variable is {self.class_var1}\")\n",
    "        print (f\"Instance variable is {self.inst_var1}\")\n",
    "    def __del__(self):\n",
    "        print (\"Executing the destructor method...\", self)\n",
    "        \n",
    "print (MyFirstClass.__doc__)\n",
    "ob1 = MyFirstClass(500)\n",
    "ob1.display()\n",
    "print ()\n",
    "ob2 = MyFirstClass(900)\n",
    "ob2.display()"
   ]
  },
  {
   "cell_type": "code",
   "execution_count": 28,
   "id": "ef875976-1641-4c9a-be4f-9c0c3f62b731",
   "metadata": {},
   "outputs": [
    {
     "name": "stdout",
     "output_type": "stream",
     "text": [
      "Executing the display method...\n",
      "Class variable is 100\n",
      "Instance variable is 500\n"
     ]
    }
   ],
   "source": [
    "ob1.display()"
   ]
  },
  {
   "cell_type": "code",
   "execution_count": 36,
   "id": "d68659cc-470f-44a0-876f-38daa77e0c89",
   "metadata": {},
   "outputs": [
    {
     "name": "stdout",
     "output_type": "stream",
     "text": [
      "Executing the destructor method... <__main__.MyFirstClass object at 0x000001A0FC9024C0>\n"
     ]
    }
   ],
   "source": [
    "del ob1"
   ]
  },
  {
   "cell_type": "code",
   "execution_count": 37,
   "id": "9ef7b293-097d-4b04-841b-09e9ca8a0286",
   "metadata": {},
   "outputs": [
    {
     "name": "stdout",
     "output_type": "stream",
     "text": [
      "Executing the destructor method... <__main__.MyFirstClass object at 0x000001A0FC690D30>\n"
     ]
    }
   ],
   "source": [
    "del ob2"
   ]
  },
  {
   "cell_type": "code",
   "execution_count": 31,
   "id": "34f5de70-0f46-4804-b1a3-2eef4b26887b",
   "metadata": {},
   "outputs": [
    {
     "ename": "NameError",
     "evalue": "name 'ob1' is not defined",
     "output_type": "error",
     "traceback": [
      "\u001b[1;31m---------------------------------------------------------------------------\u001b[0m",
      "\u001b[1;31mNameError\u001b[0m                                 Traceback (most recent call last)",
      "\u001b[1;32m<ipython-input-31-e33b2a9b39ff>\u001b[0m in \u001b[0;36m<module>\u001b[1;34m\u001b[0m\n\u001b[1;32m----> 1\u001b[1;33m \u001b[1;32mdel\u001b[0m \u001b[0mob1\u001b[0m\u001b[1;33m\u001b[0m\u001b[1;33m\u001b[0m\u001b[0m\n\u001b[0m",
      "\u001b[1;31mNameError\u001b[0m: name 'ob1' is not defined"
     ]
    }
   ],
   "source": [
    "del ob1"
   ]
  },
  {
   "cell_type": "code",
   "execution_count": 32,
   "id": "24135172-c3b8-41d8-b1d9-1c76d82c495c",
   "metadata": {},
   "outputs": [
    {
     "name": "stdout",
     "output_type": "stream",
     "text": [
      "So the number of objects defined under the class is 6\n"
     ]
    }
   ],
   "source": [
    "# counting the number of objects defined against a class\n",
    "class MyClass:\n",
    "    count = 0\n",
    "    def __init__(self):\n",
    "        MyClass.count += 1\n",
    "        \n",
    "ob1 = MyClass()\n",
    "ob2 = MyClass()\n",
    "ob3 = MyClass()\n",
    "ob4 = MyClass()\n",
    "ob5 = MyClass()\n",
    "ob6 = MyClass()\n",
    "print (f\"So the number of objects defined under the class is {MyClass.count}\")"
   ]
  },
  {
   "cell_type": "code",
   "execution_count": 48,
   "id": "cb869bd8-8a85-4ca1-ac58-f82297dc2fcb",
   "metadata": {},
   "outputs": [
    {
     "name": "stdout",
     "output_type": "stream",
     "text": [
      "Executing instance method... <__main__.MyClass object at 0x000001A0FC9A5E50>\n",
      "classVar = 222 and instVar = 100...\n",
      "Executing class method... <class '__main__.MyClass'>\n",
      "classVar = 333 and 333...\n",
      "Executing class method... <class '__main__.MyClass'>\n",
      "classVar = 333 and 333...\n",
      "Executing static method...\n",
      "classVar = 444...\n",
      "Executing static method...\n",
      "classVar = 444...\n"
     ]
    }
   ],
   "source": [
    "# There are three different types of methods are there in Python: instance, class and static method\n",
    "class MyClass:\n",
    "    classVar = 111    # static or class variable\n",
    "    # defining the instance method\n",
    "    def instMethod(self):\n",
    "        print (\"Executing instance method...\", self)\n",
    "        self.instVar = 100\n",
    "        MyClass.classVar = 222\n",
    "        print (f\"classVar = {MyClass.classVar} and instVar = {self.instVar}...\")\n",
    "    # defining the class method\n",
    "    @classmethod    # annotation or decorator\n",
    "    def classMethod(cla):\n",
    "        print (\"Executing class method...\", cla)\n",
    "        cla.classVar = 333\n",
    "        print (f\"classVar = {MyClass.classVar} and {cla.classVar}...\")\n",
    "    # defining the static method\n",
    "    @staticmethod    # annotation or decorator\n",
    "    def staticMethod():\n",
    "        print (\"Executing static method...\")\n",
    "        MyClass.classVar = 444\n",
    "        print (f\"classVar = {MyClass.classVar}...\")\n",
    "ob1 = MyClass()\n",
    "ob1.instMethod()\n",
    "ob1.classMethod()\n",
    "MyClass.classMethod()\n",
    "ob1.staticMethod()\n",
    "MyClass.staticMethod()"
   ]
  },
  {
   "cell_type": "code",
   "execution_count": 67,
   "id": "dc6a2725-9e7f-44c0-b8af-b60efaf0e435",
   "metadata": {},
   "outputs": [
    {
     "name": "stdout",
     "output_type": "stream",
     "text": [
      "True True False\n",
      "True 100\n",
      "222\n",
      "True False\n",
      "{'instVar1': 222}\n",
      "['__class__', '__delattr__', '__dict__', '__dir__', '__doc__', '__eq__', '__format__', '__ge__', '__getattribute__', '__gt__', '__hash__', '__init__', '__init_subclass__', '__le__', '__lt__', '__module__', '__ne__', '__new__', '__reduce__', '__reduce_ex__', '__repr__', '__setattr__', '__sizeof__', '__str__', '__subclasshook__', '__weakref__', 'classVar1', 'function1', 'function2', 'instVar1']\n",
      "I am __str__() method executing...\n",
      "I am __str__() method executing...\n"
     ]
    }
   ],
   "source": [
    "# built-in Python methods\n",
    "class MyClass1:\n",
    "    def __init__(self):\n",
    "        print (\"Hello\")\n",
    "class MyClass2:\n",
    "    classVar1 = 100\n",
    "    def __init__(self):\n",
    "        self.instVar1 = 111\n",
    "    def function1(self):\n",
    "        print (f\"instVar1 = {self.instVar1}...\")\n",
    "class MyClass3(MyClass2):\n",
    "    \"\"\"This is a document string...\"\"\"\n",
    "    def function2(self):\n",
    "        print (\"function2() is executing...\")\n",
    "    def __str__(self):\n",
    "        return \"I am __str__() method executing...\"\n",
    "        \n",
    "ob1 = MyClass3()\n",
    "print (isinstance(ob1, MyClass3), isinstance(ob1, MyClass2), isinstance(ob1, MyClass1))\n",
    "print (hasattr(ob1, \"classVar1\"), getattr(ob1, \"classVar1\"))\n",
    "setattr(ob1, \"instVar1\", 222); print (ob1.instVar1)\n",
    "print (issubclass(MyClass3, MyClass2), issubclass(MyClass3, MyClass1))\n",
    "print (vars(ob1))    # returns a dictionary of attributes of the object\n",
    "print (dir(ob1))     # returns a list of all the attributes of the object\n",
    "print (ob1)\n",
    "print (ob1.__str__())"
   ]
  },
  {
   "cell_type": "code",
   "execution_count": 68,
   "id": "ac7d6104-5c0f-458b-8540-71f59174a0ae",
   "metadata": {},
   "outputs": [
    {
     "name": "stdout",
     "output_type": "stream",
     "text": [
      "This is a document string...\n",
      "__main__\n",
      "{'instVar1': 222}\n"
     ]
    }
   ],
   "source": [
    "# built in Python attributes\n",
    "print (ob1.__doc__)\n",
    "print (ob1.__module__)\n",
    "print (ob1.__dict__)"
   ]
  },
  {
   "cell_type": "code",
   "execution_count": 76,
   "id": "56ca2f58-7773-4bfc-9979-1c53e986617e",
   "metadata": {},
   "outputs": [
    {
     "name": "stdout",
     "output_type": "stream",
     "text": [
      "111\n",
      "222\n",
      "333\n",
      "public method is executing...\n",
      "protected method is executing...\n",
      "private method is executing...\n"
     ]
    }
   ],
   "source": [
    "# Dealing with public, private and protected members\n",
    "class MyClass:\n",
    "    def __init__(self):\n",
    "        self.publicVar = 111\n",
    "        self._protectedVar = 222\n",
    "        self.__privateVar = 333\n",
    "    def publicMethod(self):\n",
    "        return \"public method is executing...\"\n",
    "    def _protectedMethod(self):\n",
    "        return \"protected method is executing...\"\n",
    "    def __privateMethod(self):\n",
    "        return \"private method is executing...\"\n",
    "    \n",
    "ob1 = MyClass()\n",
    "print (ob1.publicVar)\n",
    "print (ob1._protectedVar)\n",
    "print (ob1._MyClass__privateVar)\n",
    "print (ob1.publicMethod())\n",
    "print (ob1._protectedMethod())\n",
    "print (ob1._MyClass__privateMethod())"
   ]
  },
  {
   "cell_type": "markdown",
   "id": "52be0af9-ff22-4f14-822b-74cf2baf8dff",
   "metadata": {},
   "source": [
    "### Dealing with Inheritance"
   ]
  },
  {
   "cell_type": "code",
   "execution_count": 115,
   "id": "42eb82ff-c919-47d7-9af6-3af62d076149",
   "metadata": {},
   "outputs": [
    {
     "name": "stdout",
     "output_type": "stream",
     "text": [
      "Derived: constructor method is executing...\n",
      "Base: constructor method is executing...\n",
      "Base: constructor method is executing...\n",
      "Base: constructor method is executing...\n",
      "Base: constructor method is executing...\n",
      "Base: constructor method is executing...\n",
      "Base: display method is executing...\n",
      "Derived: display method is executing...\n"
     ]
    }
   ],
   "source": [
    "# Single Inheritance\n",
    "class Base:   # base / parent / super class\n",
    "    def __init__(self):\n",
    "        print (\"Base: constructor method is executing...\")\n",
    "    def displayB(self):\n",
    "        print (\"Base: display method is executing...\")\n",
    "class Derived(Base):    # sub / child / derived class\n",
    "    def __init__(self):\n",
    "        print (\"Derived: constructor method is executing...\")\n",
    "        super().__init__()\n",
    "        Base.__init__(self)\n",
    "        super(Derived, self).__init__()\n",
    "    def displayD(self):\n",
    "        print (\"Derived: display method is executing...\")\n",
    "        \n",
    "ob1 = Derived()\n",
    "Base.__init__(ob1)\n",
    "super(Derived, ob1).__init__()\n",
    "ob1.displayB()\n",
    "ob1.displayD()"
   ]
  },
  {
   "cell_type": "code",
   "execution_count": 88,
   "id": "01ae2629-cf23-4a6f-ad7f-acd07daadddb",
   "metadata": {},
   "outputs": [
    {
     "name": "stdout",
     "output_type": "stream",
     "text": [
      "Derived2: constructor method is executing...\n",
      "Base: display method is executing...\n",
      "Derived1: display method is executing...\n",
      "Derived2: display method is executing...\n"
     ]
    }
   ],
   "source": [
    "# Multi-level Inheritance\n",
    "class Base:\n",
    "    def __init__(self):\n",
    "        print (\"Base: constructor method is executing...\")\n",
    "    def displayB(self):\n",
    "        print (\"Base: display method is executing...\")\n",
    "class Derived1(Base):\n",
    "    def __init__(self):\n",
    "        print (\"Derived1: constructor method is executing...\")\n",
    "    def displayD1(self):\n",
    "        print (\"Derived1: display method is executing...\")\n",
    "class Derived2(Derived1):\n",
    "    def __init__(self):\n",
    "        print (\"Derived2: constructor method is executing...\")\n",
    "    def displayD2(self):\n",
    "        print (\"Derived2: display method is executing...\")\n",
    "        \n",
    "ob1 = Derived2()\n",
    "ob1.displayB()\n",
    "ob1.displayD1()\n",
    "ob1.displayD2()"
   ]
  },
  {
   "cell_type": "code",
   "execution_count": 91,
   "id": "e64d76c8-f560-4611-86f9-898c7f012a81",
   "metadata": {},
   "outputs": [
    {
     "name": "stdout",
     "output_type": "stream",
     "text": [
      "Derived1: constructor method is executing...\n",
      "Base: display method is executing...\n",
      "Derived1: display method is executing...\n",
      "\n",
      "Derived2: constructor method is executing...\n",
      "Base: display method is executing...\n",
      "Derived2: display method is executing...\n"
     ]
    }
   ],
   "source": [
    "# Hierarchical Inheritance\n",
    "class Base:\n",
    "    def __init__(self):\n",
    "        print (\"Base: constructor method is executing...\")\n",
    "    def displayB(self):\n",
    "        print (\"Base: display method is executing...\")\n",
    "class Derived1(Base):\n",
    "    def __init__(self):\n",
    "        print (\"Derived1: constructor method is executing...\")\n",
    "    def displayD1(self):\n",
    "        print (\"Derived1: display method is executing...\")\n",
    "class Derived2(Base):\n",
    "    def __init__(self):\n",
    "        print (\"Derived2: constructor method is executing...\")\n",
    "    def displayD2(self):\n",
    "        print (\"Derived2: display method is executing...\")\n",
    "        \n",
    "ob1 = Derived1()\n",
    "ob1.displayB()\n",
    "ob1.displayD1()\n",
    "print ()\n",
    "ob2 = Derived2()\n",
    "ob2.displayB()\n",
    "ob2.displayD2()"
   ]
  },
  {
   "cell_type": "code",
   "execution_count": 96,
   "id": "a6685551-41ef-4e75-93b1-7c09484394ad",
   "metadata": {},
   "outputs": [
    {
     "name": "stdout",
     "output_type": "stream",
     "text": [
      "Derived: constructor method is executing...\n",
      "Base1: display method is executing...\n",
      "Base2: display method is executing...\n",
      "Derived: display method is executing...\n",
      "Base1: function method is executing...\n"
     ]
    }
   ],
   "source": [
    "# Multiple Inheritance\n",
    "class Base1:\n",
    "    def __init__(self):\n",
    "        print (\"Base1: constructor method is executing...\")\n",
    "    def displayB1(self):\n",
    "        print (\"Base1: display method is executing...\")\n",
    "    def function(self):\n",
    "        print (\"Base1: function method is executing...\")\n",
    "class Base2:\n",
    "    def __init__(self):\n",
    "        print (\"Base2: constructor method is executing...\")\n",
    "    def displayB2(self):\n",
    "        print (\"Base2: display method is executing...\")\n",
    "    def function(self):\n",
    "        print (\"Base2: function method is executing...\")\n",
    "class Derived(Base1, Base2):   # MRO => Method Resolution Order\n",
    "    def __init__(self):\n",
    "        print (\"Derived: constructor method is executing...\")\n",
    "    def displayD(self):\n",
    "        print (\"Derived: display method is executing...\")\n",
    "ob1 = Derived()\n",
    "ob1.displayB1()\n",
    "ob1.displayB2()\n",
    "ob1.displayD()\n",
    "ob1.function()"
   ]
  },
  {
   "cell_type": "code",
   "execution_count": null,
   "id": "86a86889-b742-4e02-8e64-173130c7fd58",
   "metadata": {},
   "outputs": [],
   "source": [
    "# Hybrid Inheritance\n",
    "\n",
    "HOME WORK\n"
   ]
  },
  {
   "cell_type": "markdown",
   "id": "c0fa43fa-54d9-4974-896d-fbb10ddd52a8",
   "metadata": {},
   "source": [
    "### Operator Overloading"
   ]
  },
  {
   "cell_type": "code",
   "execution_count": 104,
   "id": "6e67ca84-0ecb-4130-8217-061b7c1d1ce0",
   "metadata": {},
   "outputs": [
    {
     "name": "stdout",
     "output_type": "stream",
     "text": [
      "1000 + 400 = 1400...\n",
      "1000 + 400 = 1400...\n",
      "1000 * 400 = 400000...\n",
      "1000 * 400 = 400000...\n",
      "1000 / 400 = 2.5...\n",
      "1000 / 400 = 2.5...\n",
      "1000 // 400 = 2...\n",
      "1000 // 400 = 2...\n"
     ]
    }
   ],
   "source": [
    "i = 1000\n",
    "j = 400\n",
    "result = i + j\n",
    "print (f\"{i} + {j} = {result}...\")\n",
    "result = i.__add__(j)\n",
    "print (f\"{i} + {j} = {result}...\")\n",
    "result = i * j\n",
    "print (f\"{i} * {j} = {result}...\")\n",
    "result = i.__mul__(j)\n",
    "print (f\"{i} * {j} = {result}...\")\n",
    "result = i / j   # float division\n",
    "print (f\"{i} / {j} = {result}...\")\n",
    "result = i.__truediv__(j)\n",
    "print (f\"{i} / {j} = {result}...\")\n",
    "result = i // j   # integer division\n",
    "print (f\"{i} // {j} = {result}...\")\n",
    "result = i.__floordiv__(j)\n",
    "print (f\"{i} // {j} = {result}...\")"
   ]
  },
  {
   "cell_type": "code",
   "execution_count": 110,
   "id": "8fa3610c-c11f-4682-a3cf-203ed73bd04c",
   "metadata": {},
   "outputs": [
    {
     "name": "stdout",
     "output_type": "stream",
     "text": [
      "12 4 16 7\n",
      "After performing the Addition operation between the objects...\n",
      "28 11\n",
      "28 11\n",
      "True\n",
      "True\n"
     ]
    }
   ],
   "source": [
    "class MyClass:\n",
    "    def __init__(self, xx, yy):\n",
    "        self.x = xx\n",
    "        self.y = yy\n",
    "    def __add__(self, ob):\n",
    "        temp = MyClass(0, 0)\n",
    "        temp.x = self.x + ob.x\n",
    "        temp.y = self.y + ob.y\n",
    "        return temp\n",
    "    def __gt__(self, ob):\n",
    "        temp = MyClass(0, 0)\n",
    "        temp.x = self.x + ob.x\n",
    "        temp.y = self.y + ob.y\n",
    "        return temp.x > temp.y\n",
    "ob1 = MyClass(12, 4)\n",
    "ob2 = MyClass(16, 7)\n",
    "print (ob1.x, ob1.y, ob2.x, ob2. y)\n",
    "print (\"After performing the Addition operation between the objects...\")\n",
    "result = ob1 + ob2\n",
    "print (result.x, result.y)\n",
    "result = ob1.__add__(ob2)\n",
    "print (result.x, result.y)\n",
    "result = ob1 > ob2\n",
    "print (result)\n",
    "result = ob1.__gt__(ob2)\n",
    "print (result)"
   ]
  },
  {
   "cell_type": "markdown",
   "id": "570236b9-3b63-4510-befa-61787ac3011e",
   "metadata": {},
   "source": [
    "### Abstract Class and Interface"
   ]
  },
  {
   "cell_type": "code",
   "execution_count": 111,
   "id": "fe77bc0a-fe7e-45e3-8270-e9444ff4590f",
   "metadata": {},
   "outputs": [
    {
     "name": "stdout",
     "output_type": "stream",
     "text": [
      "Abstract Base class constructor...\n",
      "Abstract method is redefined...\n",
      "concreteMethod() is executing...\n"
     ]
    }
   ],
   "source": [
    "# abstract class\n",
    "from abc import ABC, abstractmethod   # ABC => Abstract Base Class\n",
    "class AbsBaseClass(ABC):\n",
    "    def __init__(self):\n",
    "        print (\"Abstract Base class constructor...\")\n",
    "    @abstractmethod\n",
    "    def abstractMethod(self):\n",
    "        pass\n",
    "    def concreteMethod(self):\n",
    "        print (\"concreteMethod() is executing...\")\n",
    "class Derived(AbsBaseClass):\n",
    "    def abstractMethod(self):\n",
    "        print (\"Abstract method is redefined...\")\n",
    "        \n",
    "ob1 = Derived()\n",
    "ob1.abstractMethod()\n",
    "ob1.concreteMethod()"
   ]
  },
  {
   "cell_type": "code",
   "execution_count": 113,
   "id": "66732ef4-0711-495c-8d15-406e4ef6bdf5",
   "metadata": {},
   "outputs": [
    {
     "name": "stdout",
     "output_type": "stream",
     "text": [
      "Abstract Base class constructor...\n",
      "Abstract method is redefined...\n",
      "Initial content...\n",
      "concreteMethod() is executing...\n"
     ]
    }
   ],
   "source": [
    "# abstract class\n",
    "from abc import ABC, abstractmethod   # ABC => Abstract Base Class\n",
    "class AbsBaseClass(ABC):\n",
    "    def __init__(self):\n",
    "        print (\"Abstract Base class constructor...\")\n",
    "    @abstractmethod\n",
    "    def abstractMethod(self):\n",
    "        print (\"Initial content...\")\n",
    "    def concreteMethod(self):\n",
    "        print (\"concreteMethod() is executing...\")\n",
    "class Derived(AbsBaseClass):\n",
    "    def abstractMethod(self):\n",
    "        print (\"Abstract method is redefined...\")\n",
    "        super().abstractMethod()\n",
    "        \n",
    "ob1 = Derived()\n",
    "ob1.abstractMethod()\n",
    "ob1.concreteMethod()"
   ]
  },
  {
   "cell_type": "code",
   "execution_count": 114,
   "id": "1c73a734-0025-4889-bd90-a4b29d1d9000",
   "metadata": {},
   "outputs": [
    {
     "name": "stdout",
     "output_type": "stream",
     "text": [
      "abstractMethod1() is redefined...\n",
      "abstractMethod2() is redefined...\n",
      "abstractMethod3() is redefined...\n"
     ]
    }
   ],
   "source": [
    "# Dealing with the interface\n",
    "from abc import ABC, abstractmethod   # ABC => Abstract Base Class\n",
    "class interface(ABC):\n",
    "    @abstractmethod\n",
    "    def abstractMethod1(self):\n",
    "        pass\n",
    "    @abstractmethod\n",
    "    def abstractMethod2(self):\n",
    "        pass\n",
    "    @abstractmethod\n",
    "    def abstractMethod3(self):\n",
    "        pass\n",
    "class Derived(interface):\n",
    "    def abstractMethod1(self):\n",
    "        print (\"abstractMethod1() is redefined...\")\n",
    "    def abstractMethod2(self):\n",
    "        print (\"abstractMethod2() is redefined...\")\n",
    "    def abstractMethod3(self):\n",
    "        print (\"abstractMethod3() is redefined...\")\n",
    "\n",
    "ob1 = Derived()\n",
    "ob1.abstractMethod1()\n",
    "ob1.abstractMethod2()\n",
    "ob1.abstractMethod3()"
   ]
  },
  {
   "cell_type": "code",
   "execution_count": null,
   "id": "6a1e9232-427f-487d-8c17-a61f3aa0d6a8",
   "metadata": {},
   "outputs": [],
   "source": []
  }
 ],
 "metadata": {
  "kernelspec": {
   "display_name": "Python 3",
   "language": "python",
   "name": "python3"
  },
  "language_info": {
   "codemirror_mode": {
    "name": "ipython",
    "version": 3
   },
   "file_extension": ".py",
   "mimetype": "text/x-python",
   "name": "python",
   "nbconvert_exporter": "python",
   "pygments_lexer": "ipython3",
   "version": "3.8.8"
  }
 },
 "nbformat": 4,
 "nbformat_minor": 5
}
